{
 "metadata": {
  "language_info": {
   "codemirror_mode": {
    "name": "ipython",
    "version": 3
   },
   "file_extension": ".py",
   "mimetype": "text/x-python",
   "name": "python",
   "nbconvert_exporter": "python",
   "pygments_lexer": "ipython3",
   "version": "3.8.3"
  },
  "orig_nbformat": 2,
  "kernelspec": {
   "name": "python3",
   "display_name": "Python 3.8.3 64-bit ('base': conda)",
   "metadata": {
    "interpreter": {
     "hash": "81ebd31dd49f4965c8e7a400a1bf593fc62e55a5eb2d55db81e04c3c90264c69"
    }
   }
  }
 },
 "nbformat": 4,
 "nbformat_minor": 2,
 "cells": [
  {
   "source": [
    "# Δεδομένα Πειράματος και Διαλογή Εικόνων\n",
    "## Με αυτό το αρχείο παρουσιάζουμε σε μορφή gif ποιες εικόνες από το πείραμα θα χρησιμοποιηθούν \n",
    "1. Οι εικόνες βρίσκονται στο dir `/data/raw`\n",
    "2. το notebook `01-data_access.ipynb` βρίσκεται στο `/notebooks`\n",
    "3. οπότε για να έχουμε πρόσβαση πρέπει να μεταφερθούμε στο root project directory "
   ],
   "cell_type": "markdown",
   "metadata": {}
  },
  {
   "cell_type": "code",
   "execution_count": 1,
   "metadata": {},
   "outputs": [],
   "source": [
    "# εντολή bash και γενικά η πρώτη εντολή που πρέπει να εκτελέσει κάποιος όταν ανοίγει αυτό το αρχείο \n",
    "!cd .."
   ]
  },
  {
   "source": [
    "from skimage.io import imread"
   ],
   "cell_type": "code",
   "metadata": {},
   "execution_count": 3,
   "outputs": []
  },
  {
   "source": [
    "image = imread(fname='star-trail.jpg')"
   ],
   "cell_type": "code",
   "metadata": {},
   "execution_count": 5,
   "outputs": [
    {
     "output_type": "execute_result",
     "data": {
      "text/plain": [
       "array([[[ 5,  8, 15],\n",
       "        [ 5,  8, 15],\n",
       "        [ 5,  8, 15],\n",
       "        ...,\n",
       "        [28, 30, 42],\n",
       "        [27, 29, 41],\n",
       "        [26, 28, 40]],\n",
       "\n",
       "       [[ 7,  7, 15],\n",
       "        [ 7,  7, 15],\n",
       "        [ 7,  7, 15],\n",
       "        ...,\n",
       "        [30, 32, 44],\n",
       "        [27, 29, 41],\n",
       "        [24, 26, 38]],\n",
       "\n",
       "       [[ 7,  7, 15],\n",
       "        [ 7,  7, 15],\n",
       "        [ 7,  7, 15],\n",
       "        ...,\n",
       "        [29, 31, 43],\n",
       "        [26, 28, 40],\n",
       "        [24, 26, 38]],\n",
       "\n",
       "       ...,\n",
       "\n",
       "       [[11, 15, 24],\n",
       "        [10, 13, 22],\n",
       "        [ 7, 10, 19],\n",
       "        ...,\n",
       "        [41, 43, 66],\n",
       "        [39, 41, 64],\n",
       "        [36, 39, 58]],\n",
       "\n",
       "       [[ 9, 13, 22],\n",
       "        [10, 13, 22],\n",
       "        [ 8, 11, 20],\n",
       "        ...,\n",
       "        [41, 43, 64],\n",
       "        [37, 39, 60],\n",
       "        [33, 36, 53]],\n",
       "\n",
       "       [[ 7, 11, 20],\n",
       "        [ 9, 12, 21],\n",
       "        [ 9, 12, 21],\n",
       "        ...,\n",
       "        [40, 43, 62],\n",
       "        [34, 37, 56],\n",
       "        [28, 31, 46]]], dtype=uint8)"
      ]
     },
     "metadata": {},
     "execution_count": 5
    }
   ]
  },
  {
   "cell_type": "code",
   "execution_count": 6,
   "metadata": {},
   "outputs": [],
   "source": [
    "import matplotlib as plt\n",
    "plt.imshow"
   ]
  },
  {
   "cell_type": "code",
   "execution_count": null,
   "metadata": {},
   "outputs": [],
   "source": []
  }
 ]
}