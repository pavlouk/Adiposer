{
 "cells": [
  {
   "cell_type": "markdown",
   "id": "9c396e67",
   "metadata": {},
   "source": [
    "# Ανίχνευση του λιπώδους ιστού με συσταδοποίηση\n",
    "## Εντοπισμός της συμπεριφοράς της θερμογένεσης.\n",
    "## Η καταγραφή για εννέα δείγματα αφού προηγηθεί segmentation στα πέντε ποντίκια του πειράματος\n",
    "### Επιλογή εικόνων για τη μέτρηση της μέσης θερμοκρασίας και της τυπικής απόκλισης\n",
    "Στο αρχείο bat_list.yml έχουμε ορίσει από ποιες εικόνες θα καταγράψουμε τη μέση θερμοκρασία ενός τετραγωνικού patch το οποίο βρίσκεται στον αυχένα ενός ποντικιού, όπως φαίνεται στην παραπάνω εικόνα. \n",
    "\n",
    "Δομή του αρχείου yaml: \n",
    "```\n",
    "samples: [0h, 24h, 48h, 72h, 96h, 120h, 144h, 192h, 240h]\n",
    "mouse_id: [mouse_1, mouse_2, mouse_3, mouse_4, mouse_5]\n",
    "mouse_1:\n",
    "  csv: [CSV_2060.csv, CSV_2305.csv, CSV_2509.csv, CSV_2730.csv, CSV_2957.csv, CSV_3181.csv, CSV_3397.csv, CSV_3652.csv, CSV_3855.csv]\n",
    "  jpeg: [IR_2060.jpg, IR_2305.jpg, IR_2509.jpg, IR_2730.jpg, IR_2957.jpg, IR_3181.jpg, IR_3397.jpg, IR_3652.jpg, IR_3855.jpg]\n",
    ".\n",
    ".\n",
    ". κλπ\n",
    "```"
   ]
  },
  {
   "cell_type": "code",
   "execution_count": 3,
   "id": "a6ea7b59",
   "metadata": {},
   "outputs": [],
   "source": [
    "import os\n",
    "import sys\n",
    "module_path = os.path.abspath(os.path.join('..'))\n",
    "if module_path not in sys.path:\n",
    "    sys.path.append(module_path)\n",
    "from skimage.io import imread\n",
    "import matplotlib.pyplot as plt\n",
    "import numpy as np\n",
    "%matplotlib inline\n",
    "from celluloid import Camera\n",
    "from IPython.display import HTML # to show the animation in Jupyter\n",
    "from tqdm import tqdm\n",
    "\n",
    "from skimage.exposure import histogram\n",
    "from skimage.util import img_as_ubyte\n",
    "\n",
    "from src.features import mouse_detection\n",
    "from src.data import data_"
   ]
  },
  {
   "cell_type": "code",
   "execution_count": 5,
   "id": "25b8012f",
   "metadata": {},
   "outputs": [],
   "source": [
    "# Εισαγωγή του αρχείου yaml\n",
    "import yaml\n",
    "from src.features import img_to_vectors\n",
    "with open(module_path + '/data/bat_list.yml') as file:\n",
    "    experiment = yaml.load(file, Loader=yaml.FullLoader)\n",
    "# experiment['samples'], experiment['mouse_id']"
   ]
  },
  {
   "cell_type": "code",
   "execution_count": 6,
   "id": "245b21ec",
   "metadata": {},
   "outputs": [
    {
     "ename": "ValueError",
     "evalue": "operands could not be broadcast together with shapes (240,60) (240,160) ",
     "output_type": "error",
     "traceback": [
      "\u001b[1;31m---------------------------------------------------------------------------\u001b[0m",
      "\u001b[1;31mValueError\u001b[0m                                Traceback (most recent call last)",
      "\u001b[1;32m<ipython-input-6-4f45da5c90c3>\u001b[0m in \u001b[0;36m<module>\u001b[1;34m\u001b[0m\n\u001b[0;32m     29\u001b[0m     \u001b[0mcsv_files\u001b[0m\u001b[1;33m.\u001b[0m\u001b[0mappend\u001b[0m\u001b[1;33m(\u001b[0m\u001b[0minitial_data_pick\u001b[0m\u001b[1;33m.\u001b[0m\u001b[0mCSV_fixer\u001b[0m\u001b[1;33m(\u001b[0m\u001b[0mitem\u001b[0m\u001b[1;33m,\u001b[0m \u001b[0mfname\u001b[0m\u001b[1;33m=\u001b[0m\u001b[1;34m''\u001b[0m\u001b[1;33m,\u001b[0m \u001b[0msave_dir\u001b[0m\u001b[1;33m=\u001b[0m\u001b[1;34m''\u001b[0m\u001b[1;33m)\u001b[0m\u001b[1;33m)\u001b[0m\u001b[1;33m\u001b[0m\u001b[1;33m\u001b[0m\u001b[0m\n\u001b[0;32m     30\u001b[0m \u001b[1;33m\u001b[0m\u001b[0m\n\u001b[1;32m---> 31\u001b[1;33m \u001b[0mthermals\u001b[0m \u001b[1;33m=\u001b[0m \u001b[1;33m[\u001b[0m\u001b[0mmask\u001b[0m \u001b[1;33m*\u001b[0m \u001b[0mcsv\u001b[0m \u001b[1;32mfor\u001b[0m \u001b[1;33m(\u001b[0m\u001b[0mmask\u001b[0m\u001b[1;33m,\u001b[0m \u001b[0mcsv\u001b[0m\u001b[1;33m)\u001b[0m \u001b[1;32min\u001b[0m \u001b[0mzip\u001b[0m\u001b[1;33m(\u001b[0m\u001b[0minitial_masks\u001b[0m\u001b[1;33m,\u001b[0m \u001b[0mcsv_files\u001b[0m\u001b[1;33m)\u001b[0m\u001b[1;33m]\u001b[0m\u001b[1;33m\u001b[0m\u001b[1;33m\u001b[0m\u001b[0m\n\u001b[0m\u001b[0;32m     32\u001b[0m \u001b[0mnew\u001b[0m \u001b[1;33m=\u001b[0m \u001b[1;33m[\u001b[0m\u001b[0mthermal\u001b[0m\u001b[1;33m[\u001b[0m\u001b[0mlocation\u001b[0m\u001b[1;33m]\u001b[0m \u001b[1;32mfor\u001b[0m \u001b[0mthermal\u001b[0m\u001b[1;33m,\u001b[0m \u001b[0mlocation\u001b[0m \u001b[1;32min\u001b[0m \u001b[0mzip\u001b[0m\u001b[1;33m(\u001b[0m\u001b[0mthermals\u001b[0m\u001b[1;33m,\u001b[0m \u001b[0mmouse_locations\u001b[0m\u001b[1;33m)\u001b[0m\u001b[1;33m]\u001b[0m\u001b[1;33m\u001b[0m\u001b[1;33m\u001b[0m\u001b[0m\n\u001b[0;32m     33\u001b[0m \u001b[1;33m\u001b[0m\u001b[0m\n",
      "\u001b[1;32m<ipython-input-6-4f45da5c90c3>\u001b[0m in \u001b[0;36m<listcomp>\u001b[1;34m(.0)\u001b[0m\n\u001b[0;32m     29\u001b[0m     \u001b[0mcsv_files\u001b[0m\u001b[1;33m.\u001b[0m\u001b[0mappend\u001b[0m\u001b[1;33m(\u001b[0m\u001b[0minitial_data_pick\u001b[0m\u001b[1;33m.\u001b[0m\u001b[0mCSV_fixer\u001b[0m\u001b[1;33m(\u001b[0m\u001b[0mitem\u001b[0m\u001b[1;33m,\u001b[0m \u001b[0mfname\u001b[0m\u001b[1;33m=\u001b[0m\u001b[1;34m''\u001b[0m\u001b[1;33m,\u001b[0m \u001b[0msave_dir\u001b[0m\u001b[1;33m=\u001b[0m\u001b[1;34m''\u001b[0m\u001b[1;33m)\u001b[0m\u001b[1;33m)\u001b[0m\u001b[1;33m\u001b[0m\u001b[1;33m\u001b[0m\u001b[0m\n\u001b[0;32m     30\u001b[0m \u001b[1;33m\u001b[0m\u001b[0m\n\u001b[1;32m---> 31\u001b[1;33m \u001b[0mthermals\u001b[0m \u001b[1;33m=\u001b[0m \u001b[1;33m[\u001b[0m\u001b[0mmask\u001b[0m \u001b[1;33m*\u001b[0m \u001b[0mcsv\u001b[0m \u001b[1;32mfor\u001b[0m \u001b[1;33m(\u001b[0m\u001b[0mmask\u001b[0m\u001b[1;33m,\u001b[0m \u001b[0mcsv\u001b[0m\u001b[1;33m)\u001b[0m \u001b[1;32min\u001b[0m \u001b[0mzip\u001b[0m\u001b[1;33m(\u001b[0m\u001b[0minitial_masks\u001b[0m\u001b[1;33m,\u001b[0m \u001b[0mcsv_files\u001b[0m\u001b[1;33m)\u001b[0m\u001b[1;33m]\u001b[0m\u001b[1;33m\u001b[0m\u001b[1;33m\u001b[0m\u001b[0m\n\u001b[0m\u001b[0;32m     32\u001b[0m \u001b[0mnew\u001b[0m \u001b[1;33m=\u001b[0m \u001b[1;33m[\u001b[0m\u001b[0mthermal\u001b[0m\u001b[1;33m[\u001b[0m\u001b[0mlocation\u001b[0m\u001b[1;33m]\u001b[0m \u001b[1;32mfor\u001b[0m \u001b[0mthermal\u001b[0m\u001b[1;33m,\u001b[0m \u001b[0mlocation\u001b[0m \u001b[1;32min\u001b[0m \u001b[0mzip\u001b[0m\u001b[1;33m(\u001b[0m\u001b[0mthermals\u001b[0m\u001b[1;33m,\u001b[0m \u001b[0mmouse_locations\u001b[0m\u001b[1;33m)\u001b[0m\u001b[1;33m]\u001b[0m\u001b[1;33m\u001b[0m\u001b[1;33m\u001b[0m\u001b[0m\n\u001b[0;32m     33\u001b[0m \u001b[1;33m\u001b[0m\u001b[0m\n",
      "\u001b[1;31mValueError\u001b[0m: operands could not be broadcast together with shapes (240,60) (240,160) "
     ]
    }
   ],
   "source": [
    "# Πρόσβαση στα δεδομένα του αρχείου\n",
    "mouse_names = ['mouse_1', 'mouse_2', 'mouse_3', 'mouse_4', 'mouse_5']\n",
    "# mouse_names = ['mouse_1']\n",
    "# Κατασκευή των global path για τα αρχεία του πειράματος\n",
    "infrared_items = []\n",
    "csv_items = []\n",
    "for mouse_name in mouse_names:\n",
    "    for hour, jpeg_file in zip(experiment['samples'], experiment[mouse_name]['jpeg']):\n",
    "        full_jpeg_path = module_path + '/data/raw/' + hour + '/' + mouse_name + '/' + jpeg_file\n",
    "        infrared_items.append(full_jpeg_path)\n",
    "\n",
    "    for hour, csv_file in zip(experiment['samples'], experiment[mouse_name]['csv']):\n",
    "        full_csv_path = module_path + '/data/raw/' + hour + '/' + mouse_name + '/' + csv_file\n",
    "        csv_items.append(full_csv_path)\n",
    "# Εισαγωγή των δεδομένων με βάση τα path και οι προεπεξεργασίες τους\n",
    "infrared_images = [] # will store (238, 98), (229, 100) arrays etc\n",
    "exif_datum = []\n",
    "for item in infrared_items:\n",
    "    infrared_image, exif_data = initial_data_pick.IR_fixer(fpath=item, fname='')\n",
    "    infrared_images.append(infrared_image)\n",
    "    exif_datum.append(exif_data)\n",
    "\n",
    "markerBack, markerBody = 70, 120\n",
    "\n",
    "object_images, object_masks, initial_masks, mouse_locations = mouse_detection.mouse_detection(infrared_images, markerBack, markerBody)\n",
    "\n",
    "csv_files = [] # will store (240, 160) arrays\n",
    "for item in csv_items:\n",
    "    csv_files.append(initial_data_pick.CSV_fixer(item, fname='', save_dir=''))\n",
    "\n",
    "thermals = [mask * csv for (mask, csv) in zip(initial_masks, csv_files)]\n",
    "new = [thermal[mouse_location] for thermal, mouse_location in zip(thermals, mouse_locations)]\n",
    "\n",
    "fig = plt.figure(figsize=(8, 8), constrained_layout=False)\n",
    "fig.suptitle(t=f'Experiment course for {mouse_names}', fontsize='xx-large')\n",
    "grid = fig.add_gridspec(nrows=1, ncols=1, wspace=0.2, hspace=0.25)\n",
    "ax0 = fig.add_subplot(grid[0])\n",
    "\n",
    "mean_roi_temp = []\n",
    "roi_area_area = []\n",
    "std_roi = []\n",
    "camera = Camera(fig)\n",
    "print(f'{mouse_names}')\n",
    "for i, (image) in tqdm(enumerate(new)):\n",
    "    ordinatesX, ordinatesY = img_to_vectors.img_to_vectors(image)\n",
    "    intensityFeature = image[ordinatesX, ordinatesY]\n",
    "    xmin = int(0.35*image.shape[1])\n",
    "    xmax = int(0.65*image.shape[1])\n",
    "    ymin = int(0.70*image.shape[0])\n",
    "    ymax = int(0.78*image.shape[0])\n",
    "    roi_area = image[ymin:ymax, xmin:xmax]\n",
    "    std_roi.append(np.std(roi_area))\n",
    "    mean_roi_temp.append(np.mean(roi_area))\n",
    "    roi_area_area.append(roi_area.size)\n",
    "    # print(f'sample: #{i}')\n",
    "    print(f'Body : shape: {image.shape}, area: {intensityFeature.size} Mean Temp: {np.mean(intensityFeature)}  Std Temp: {np.std(intensityFeature)}')\n",
    "    print(f'Patch : shape: {roi_area.shape}, area: {roi_area.size} Mean Temp: {np.mean(roi_area)}  Std Temp: {np.std(roi_area)}')\n",
    "    ax0.imshow(X=image, cmap=plt.cm.nipy_spectral)\n",
    "    # ax0.set_title(label=sample)\n",
    "    ax0.axvspan(xmin=xmin, xmax=xmax, color='white', alpha=0.55)\n",
    "    ax0.axhspan(ymin=ymin, ymax=ymax, color='white', alpha=0.55)    \n",
    "    fig.add_subplot(ax0)\n",
    "    camera.snap()\n",
    "animation = camera.animate(interval=100)\n",
    "# το HTML πρέπει να τρέχει στο jupyter notebook \n",
    "HTML(animation.to_html5_video()) # displaying the animation"
   ]
  }
 ],
 "metadata": {
  "kernelspec": {
   "display_name": "Python 3",
   "language": "python",
   "name": "python3"
  },
  "language_info": {
   "codemirror_mode": {
    "name": "ipython",
    "version": 3
   },
   "file_extension": ".py",
   "mimetype": "text/x-python",
   "name": "python",
   "nbconvert_exporter": "python",
   "pygments_lexer": "ipython3",
   "version": "3.8.3"
  }
 },
 "nbformat": 4,
 "nbformat_minor": 5
}
