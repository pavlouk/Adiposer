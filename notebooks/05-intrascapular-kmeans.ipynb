{
 "cells": [
  {
   "cell_type": "markdown",
   "id": "789e3168",
   "metadata": {},
   "source": [
    "# Ανιχνεύεται η συμπεριφορά του φαιού λιπώδους ιστού;\n",
    "## Η καταγραφή για εννέα δείγματα αφού προηγηθεί segmentation στα πέντε ποντίκια του πειράματος\n",
    "### Επιλογή εικόνων για τη μέτρηση της μέσης θερμοκρασίας και της τυπικής απόκλισης\n",
    "Στο αρχείο bat_list.yml έχουμε ορίσει από ποιες εικόνες θα καταγράψουμε τη μέση θερμοκρασία ενός τετραγωνικού patch το οποίο βρίσκεται στον αυχένα ενός ποντικιού, όπως φαίνεται στην παραπάνω εικόνα. \n",
    "\n",
    "Δομή του αρχείου yaml: \n",
    "```\n",
    "samples: [0h, 24h, 48h, 72h, 96h, 120h, 144h, 192h, 240h]\n",
    "mouse_id: [mouse_1, mouse_2, mouse_3, mouse_4, mouse_5]\n",
    "mouse_1:\n",
    "  csv: [CSV_2060.csv, CSV_2305.csv, CSV_2509.csv, CSV_2730.csv, CSV_2957.csv, CSV_3181.csv, CSV_3397.csv, CSV_3652.csv, CSV_3855.csv]\n",
    "  jpeg: [IR_2060.jpg, IR_2305.jpg, IR_2509.jpg, IR_2730.jpg, IR_2957.jpg, IR_3181.jpg, IR_3397.jpg, IR_3652.jpg, IR_3855.jpg]\n",
    ".\n",
    ".\n",
    ". κλπ\n",
    "```"
   ]
  },
  {
   "cell_type": "code",
   "execution_count": 4,
   "id": "8164f28a",
   "metadata": {},
   "outputs": [],
   "source": [
    "import os\n",
    "import sys\n",
    "module_path = os.path.abspath(os.path.join('..'))\n",
    "if module_path not in sys.path:\n",
    "    sys.path.append(module_path)"
   ]
  },
  {
   "cell_type": "code",
   "execution_count": 5,
   "id": "a0534f86",
   "metadata": {},
   "outputs": [],
   "source": [
    "from skimage.io import imread\n",
    "import matplotlib.pyplot as plt\n",
    "%matplotlib inline\n",
    "from celluloid import Camera\n",
    "from IPython.display import HTML # to show the animation in Jupyter\n",
    "from tqdm import tqdm\n",
    "\n",
    "from skimage.exposure import histogram\n",
    "from skimage.util import img_as_ubyte\n",
    "\n",
    "from src.features import mouse_detection\n",
    "from src.data import initial_data_pick"
   ]
  }
 ],
 "metadata": {
  "kernelspec": {
   "display_name": "Python 3",
   "language": "python",
   "name": "python3"
  },
  "language_info": {
   "codemirror_mode": {
    "name": "ipython",
    "version": 3
   },
   "file_extension": ".py",
   "mimetype": "text/x-python",
   "name": "python",
   "nbconvert_exporter": "python",
   "pygments_lexer": "ipython3",
   "version": "3.8.3"
  }
 },
 "nbformat": 4,
 "nbformat_minor": 5
}
