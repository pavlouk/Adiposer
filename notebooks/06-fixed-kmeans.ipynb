{
 "cells": [
  {
   "cell_type": "markdown",
   "id": "cecbf20a",
   "metadata": {},
   "source": [
    "# Ανίχνευση του λιπώδους ιστού με συσταδοποίηση\n",
    "## Εντοπισμός της συμπεριφοράς της θερμογένεσης.\n",
    "## Η καταγραφή για εννέα δείγματα αφού προηγηθεί segmentation στα πέντε ποντίκια του πειράματος\n",
    "### Επιλογή εικόνων για τη μέτρηση της μέσης θερμοκρασίας και της τυπικής απόκλισης\n",
    "Στο αρχείο bat_list.yml έχουμε ορίσει από ποιες εικόνες θα καταγράψουμε τη μέση θερμοκρασία ενός τετραγωνικού patch το οποίο βρίσκεται στον αυχένα ενός ποντικιού, όπως φαίνεται στην παραπάνω εικόνα. \n",
    "\n",
    "Δομή του αρχείου yaml: \n",
    "```\n",
    "samples: [0h, 24h, 48h, 72h, 96h, 120h, 144h, 192h, 240h]\n",
    "mouse_id: [mouse_1, mouse_2, mouse_3, mouse_4, mouse_5]\n",
    "mouse_1:\n",
    "  csv: [CSV_2060.csv, CSV_2305.csv, CSV_2509.csv, CSV_2730.csv, CSV_2957.csv, CSV_3181.csv, CSV_3397.csv, CSV_3652.csv, CSV_3855.csv]\n",
    "  jpeg: [IR_2060.jpg, IR_2305.jpg, IR_2509.jpg, IR_2730.jpg, IR_2957.jpg, IR_3181.jpg, IR_3397.jpg, IR_3652.jpg, IR_3855.jpg]\n",
    ".\n",
    ".\n",
    ". κλπ\n",
    "```"
   ]
  },
  {
   "cell_type": "code",
   "execution_count": 1,
   "id": "eb56effd",
   "metadata": {},
   "outputs": [
    {
     "name": "stdout",
     "output_type": "stream",
     "text": [
      "src.data.data_utils\n"
     ]
    }
   ],
   "source": [
    "import os\n",
    "import sys\n",
    "import yaml\n",
    "module_path = os.path.abspath(os.path.join('..'))\n",
    "if module_path not in sys.path:\n",
    "    sys.path.append(module_path)\n",
    "from skimage.io import imread\n",
    "import matplotlib.pyplot as plt\n",
    "import numpy as np\n",
    "import pandas as pd\n",
    "%matplotlib inline\n",
    "from celluloid import Camera\n",
    "from IPython.display import HTML # to show the animation in Jupyter\n",
    "from tqdm import tqdm\n",
    "\n",
    "from skimage.exposure import histogram\n",
    "from skimage.filters.rank import entropy\n",
    "from skimage.morphology import disk, square, skeletonize, thin, dilation\n",
    "from skimage.util import img_as_ubyte\n",
    "from skimage.feature import greycomatrix, greycoprops, local_binary_pattern\n",
    "from sklearn import cluster\n",
    "from sklearn.metrics import silhouette_score, calinski_harabasz_score, davies_bouldin_score\n",
    "\n",
    "from src.features import img_to_vectors\n",
    "from src.features import mouse_detection\n",
    "from src.data import data_utils\n",
    "from sklearn import preprocessing\n",
    "\n",
    "# Εισαγωγή των δεδομένων μέσω yaml\n",
    "with open(module_path + '/data/bat_list.yml') as file:\n",
    "    experiment = yaml.load(file, Loader=yaml.FullLoader)\n",
    "# access: experiment['samples'], experiment['mouse_id']\n",
    "\n",
    "class display(object):\n",
    "    \"\"\"Display HTML representation of multiple objects\"\"\"\n",
    "    template = \"\"\"<div style=\"float: left; padding: 10px;\">\n",
    "    <p style='font-family:\"Courier New\", Courier, monospace'>{0}</p>{1}\n",
    "    </div>\"\"\"\n",
    "    def __init__(self, *args):\n",
    "        self.args = args\n",
    "        \n",
    "    def _repr_html_(self):\n",
    "        return '\\n'.join(self.template.format(a, eval(a)._repr_html_())\n",
    "                         for a in self.args)\n",
    "    \n",
    "    def __repr__(self):\n",
    "        return '\\n\\n'.join(a + '\\n' + repr(eval(a))\n",
    "                           for a in self.args)"
   ]
  },
  {
   "cell_type": "markdown",
   "id": "f5248420",
   "metadata": {},
   "source": [
    "### Κατασκευή global path για τα δεδομένα και απομάκρυνση background "
   ]
  },
  {
   "cell_type": "code",
   "execution_count": 10,
   "id": "d28a4c2c",
   "metadata": {},
   "outputs": [],
   "source": [
    "# Πρόσβαση στα δεδομένα του αρχείου\n",
    "mouse_names = experiment['mouse_id']\n",
    "# mouse_names = ['mouse_1']\n",
    "# Κατασκευή των global path για τα αρχεία του πειράματος\n",
    "infrared_items = []\n",
    "csv_items = []\n",
    "for mouse_name in mouse_names:\n",
    "    for hour, jpeg_file in zip(experiment['samples'], experiment[mouse_name]['jpeg']):\n",
    "        full_jpeg_path = module_path + '/data/raw/' + hour + '/' + mouse_name + '/' + jpeg_file\n",
    "        infrared_items.append(full_jpeg_path)\n",
    "\n",
    "    for hour, csv_file in zip(experiment['samples'], experiment[mouse_name]['csv']):\n",
    "        full_csv_path = module_path + '/data/raw/' + hour + '/' + mouse_name + '/' + csv_file\n",
    "        csv_items.append(full_csv_path)\n",
    "# Εισαγωγή των δεδομένων με βάση τα path και οι προεπεξεργασίες τους\n",
    "infrared_images = [] # will store (238, 98), (229, 100) arrays etc\n",
    "exif_data = []\n",
    "for item in infrared_items:\n",
    "    infrared_image, exif_datum = data_utils.IR_fixer(fpath=item)\n",
    "    infrared_images.append(infrared_image)\n",
    "    exif_data.append(exif_datum)\n",
    "\n",
    "markerBack, markerBody = 70, 150\n",
    "object_images, object_masks, initial_masks, mouse_locations = mouse_detection.mouse_detection(infrared_images, markerBack, markerBody)"
   ]
  }
 ],
 "metadata": {
  "kernelspec": {
   "display_name": "Python 3",
   "language": "python",
   "name": "python3"
  },
  "language_info": {
   "codemirror_mode": {
    "name": "ipython",
    "version": 3
   },
   "file_extension": ".py",
   "mimetype": "text/x-python",
   "name": "python",
   "nbconvert_exporter": "python",
   "pygments_lexer": "ipython3",
   "version": "3.8.3"
  }
 },
 "nbformat": 4,
 "nbformat_minor": 5
}
