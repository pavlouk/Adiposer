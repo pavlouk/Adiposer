{
 "cells": [
  {
   "cell_type": "markdown",
   "id": "f0bfcd82",
   "metadata": {},
   "source": [
    "# Εξαγωγή Μεταδεδομένων Θερμικών Εικόνων\n",
    "## Χρήση του εργαλείου [exiftool](https://exiftool.org/)\n",
    "### Παραγωγή csv αρχείων με τα μεταδεδομένα των ετικετών εντός των jpeg "
   ]
  },
  {
   "cell_type": "code",
   "execution_count": 1,
   "id": "1627ff52",
   "metadata": {},
   "outputs": [],
   "source": [
    "import os\n",
    "import sys\n",
    "module_path = os.path.abspath(os.path.join('..'))\n",
    "if module_path not in sys.path:\n",
    "    sys.path.append(module_path)"
   ]
  },
  {
   "cell_type": "markdown",
   "id": "fe44bf99",
   "metadata": {},
   "source": [
    "### Μεταφορά του συστήματος στο directory που βρίσκεται το πρόγραμμα `exiftool.exe`"
   ]
  },
  {
   "cell_type": "code",
   "execution_count": 8,
   "id": "1cfdf3d9",
   "metadata": {},
   "outputs": [
    {
     "name": "stdout",
     "output_type": "stream",
     "text": [
      "C:\\Users\\plouk\\Adiposer\n"
     ]
    }
   ],
   "source": [
    "cd .."
   ]
  },
  {
   "cell_type": "markdown",
   "id": "f00bef8f",
   "metadata": {},
   "source": [
    "### H σύνταξη των εντολών για τη χρήση του εργαλείου μεταδεδομένων"
   ]
  },
  {
   "cell_type": "code",
   "execution_count": null,
   "id": "d7fb3743",
   "metadata": {},
   "outputs": [],
   "source": [
    "source = module_path + '/data/raw/0h/mouse_1/'\n",
    "dest = module_path + '/data/interim\n",
    "#!exiftool.exe -csv {source} > {a}.csv\n",
    "a = !exiftool.exe -csv {source} > ola.csv"
   ]
  },
  {
   "cell_type": "markdown",
   "id": "bb686954",
   "metadata": {},
   "source": [
    "### Ορισμοί των Path για το dataset"
   ]
  },
  {
   "cell_type": "code",
   "execution_count": 2,
   "id": "b421d64e",
   "metadata": {},
   "outputs": [],
   "source": [
    "PROJECT_DIR = module_path\n",
    "RAW_DIR = PROJECT_DIR + \"/data/raw\"\n",
    "INTERIM_DIR = PROJECT_DIR + \"/data/interim\"\n",
    "mode = 0o755\n",
    "sample_hours = ['0h', '24h', '48h', '72h', '96h', '120h', '144h', '192h', '240h']\n",
    "mouse_ids = ['mouse_1', 'mouse_2', 'mouse_3', 'mouse_4', 'mouse_5']"
   ]
  },
  {
   "cell_type": "markdown",
   "id": "b13ed944",
   "metadata": {},
   "source": [
    "### Κατασκευή directory interim και subdirectories για τα μεταδεδομένα\n",
    "#### Mορφή \n",
    "`data/interim`\n",
    "- 0h\n",
    "    - mouse_1.csv\n",
    "    - mouse_2.csv ...\n",
    "- 24h\n",
    "    - mouse_1.csv\n",
    "    - mouse_2.csv ...\n",
    "    "
   ]
  },
  {
   "cell_type": "code",
   "execution_count": 4,
   "id": "cfb5a0e3",
   "metadata": {},
   "outputs": [
    {
     "data": {
      "text/plain": [
       "[None, None, None, None, None, None, None, None, None]"
      ]
     },
     "execution_count": 4,
     "metadata": {},
     "output_type": "execute_result"
    }
   ],
   "source": [
    "# 1. Αρχικοποίηση INTERIM_DIR με τα sample_hours directories\n",
    "# print('******* 1. Initialized /data/interim/[sample_hours] directories **************')\n",
    "[os.mkdir(INTERIM_DIR + f'/{sample_hour}', mode) for sample_hour in sample_hours]\n",
    "# 2. Κατασκευή των subdirectories με τα mouse_ids\n",
    "# print('******* 2. Creating /data/interim/[sample_hours]/[mouse_ids] directories **************')\n",
    "# [os.mkdir(INTERIM_DIR + f'/{sample_hour}/{mouse_id}', mode) for sample_hour in sample_hours for mouse_id in mouse_ids]"
   ]
  },
  {
   "cell_type": "code",
   "execution_count": 7,
   "id": "ba9eb351",
   "metadata": {},
   "outputs": [
    {
     "name": "stdout",
     "output_type": "stream",
     "text": [
      "Iteration #0\n",
      "  Basename Root dir: raw\n",
      "  Found DIRs: ['0h', '120h', '144h', '192h', '240h', '24h', '48h', '72h', '96h']\n",
      "Iteration #1\n",
      "  Basename Root dir: 0h\n",
      "  Found DIRs: ['mouse_1', 'mouse_2', 'mouse_3', 'mouse_4', 'mouse_5']\n",
      "Iteration #2\n",
      "  Basename Root dir: mouse_1\n",
      "  Found DIRs: []\n",
      "******* 109 Files Found at C:\\Users\\plouk\\Adiposer/data/raw\\0h\\mouse_1\n",
      "Base directory: C:\\Users\\plouk\\Adiposer/data/raw\\0h\\mouse_1\n",
      "Saving at: C:\\Users\\plouk\\Adiposer/data/interim0h/mouse_1\n",
      "------------ Total Processed Files 0 ------------------\n",
      "Iteration #3\n",
      "  Basename Root dir: mouse_2\n",
      "  Found DIRs: []\n",
      "******* 67 Files Found at C:\\Users\\plouk\\Adiposer/data/raw\\0h\\mouse_2\n"
     ]
    },
    {
     "name": "stderr",
     "output_type": "stream",
     "text": [
      "The system cannot find the path specified.\n"
     ]
    },
    {
     "name": "stdout",
     "output_type": "stream",
     "text": [
      "Base directory: C:\\Users\\plouk\\Adiposer/data/raw\\0h\\mouse_2\n",
      "Saving at: C:\\Users\\plouk\\Adiposer/data/interim0h/mouse_2\n",
      "------------ Total Processed Files 0 ------------------\n",
      "Iteration #4\n",
      "  Basename Root dir: mouse_3\n",
      "  Found DIRs: []\n",
      "******* 58 Files Found at C:\\Users\\plouk\\Adiposer/data/raw\\0h\\mouse_3\n"
     ]
    },
    {
     "name": "stderr",
     "output_type": "stream",
     "text": [
      "The system cannot find the path specified.\n"
     ]
    },
    {
     "name": "stdout",
     "output_type": "stream",
     "text": [
      "Base directory: C:\\Users\\plouk\\Adiposer/data/raw\\0h\\mouse_3\n",
      "Saving at: C:\\Users\\plouk\\Adiposer/data/interim0h/mouse_3\n",
      "------------ Total Processed Files 0 ------------------\n",
      "Iteration #5\n",
      "  Basename Root dir: mouse_4\n",
      "  Found DIRs: []\n",
      "******* 52 Files Found at C:\\Users\\plouk\\Adiposer/data/raw\\0h\\mouse_4\n"
     ]
    },
    {
     "name": "stderr",
     "output_type": "stream",
     "text": [
      "The system cannot find the path specified.\n"
     ]
    },
    {
     "name": "stdout",
     "output_type": "stream",
     "text": [
      "Base directory: C:\\Users\\plouk\\Adiposer/data/raw\\0h\\mouse_4\n",
      "Saving at: C:\\Users\\plouk\\Adiposer/data/interim0h/mouse_4\n",
      "------------ Total Processed Files 0 ------------------\n",
      "Iteration #6\n",
      "  Basename Root dir: mouse_5\n",
      "  Found DIRs: []\n",
      "******* 58 Files Found at C:\\Users\\plouk\\Adiposer/data/raw\\0h\\mouse_5\n"
     ]
    },
    {
     "name": "stderr",
     "output_type": "stream",
     "text": [
      "The system cannot find the path specified.\n"
     ]
    },
    {
     "name": "stdout",
     "output_type": "stream",
     "text": [
      "Base directory: C:\\Users\\plouk\\Adiposer/data/raw\\0h\\mouse_5\n",
      "Saving at: C:\\Users\\plouk\\Adiposer/data/interim0h/mouse_5\n",
      "------------ Total Processed Files 0 ------------------\n",
      "Iteration #7\n",
      "  Basename Root dir: 120h\n",
      "  Found DIRs: ['mouse_1', 'mouse_2', 'mouse_3', 'mouse_4', 'mouse_5']\n",
      "Iteration #8\n",
      "  Basename Root dir: mouse_1\n",
      "  Found DIRs: []\n",
      "******* 46 Files Found at C:\\Users\\plouk\\Adiposer/data/raw\\120h\\mouse_1\n"
     ]
    },
    {
     "name": "stderr",
     "output_type": "stream",
     "text": [
      "The system cannot find the path specified.\n",
      "The system cannot find the path specified.\n"
     ]
    },
    {
     "name": "stdout",
     "output_type": "stream",
     "text": [
      "Base directory: C:\\Users\\plouk\\Adiposer/data/raw\\120h\\mouse_1\n",
      "Saving at: C:\\Users\\plouk\\Adiposer/data/interim120h/mouse_1\n",
      "------------ Total Processed Files 0 ------------------\n",
      "Iteration #9\n",
      "  Basename Root dir: mouse_2\n",
      "  Found DIRs: []\n",
      "******* 69 Files Found at C:\\Users\\plouk\\Adiposer/data/raw\\120h\\mouse_2\n"
     ]
    },
    {
     "name": "stderr",
     "output_type": "stream",
     "text": [
      "The system cannot find the path specified."
     ]
    },
    {
     "name": "stdout",
     "output_type": "stream",
     "text": [
      "Base directory: C:\\Users\\plouk\\Adiposer/data/raw\\120h\\mouse_2\n",
      "Saving at: C:\\Users\\plouk\\Adiposer/data/interim120h/mouse_2\n",
      "------------ Total Processed Files 0 ------------------\n",
      "Iteration #10\n",
      "  Basename Root dir: mouse_3\n",
      "  Found DIRs: []\n",
      "******* 48 Files Found at C:\\Users\\plouk\\Adiposer/data/raw\\120h\\mouse_3\n"
     ]
    },
    {
     "name": "stderr",
     "output_type": "stream",
     "text": [
      "\n"
     ]
    },
    {
     "name": "stdout",
     "output_type": "stream",
     "text": [
      "Base directory: C:\\Users\\plouk\\Adiposer/data/raw\\120h\\mouse_3\n",
      "Saving at: C:\\Users\\plouk\\Adiposer/data/interim120h/mouse_3\n",
      "------------ Total Processed Files 0 ------------------\n",
      "Iteration #11\n",
      "  Basename Root dir: mouse_4\n",
      "  Found DIRs: []\n",
      "******* 65 Files Found at C:\\Users\\plouk\\Adiposer/data/raw\\120h\\mouse_4\n"
     ]
    },
    {
     "name": "stderr",
     "output_type": "stream",
     "text": [
      "The system cannot find the path specified.\n",
      "The system cannot find the path specified."
     ]
    },
    {
     "name": "stdout",
     "output_type": "stream",
     "text": [
      "Base directory: C:\\Users\\plouk\\Adiposer/data/raw\\120h\\mouse_4\n",
      "Saving at: C:\\Users\\plouk\\Adiposer/data/interim120h/mouse_4\n",
      "------------ Total Processed Files 0 ------------------\n",
      "Iteration #12\n",
      "  Basename Root dir: mouse_5\n",
      "  Found DIRs: []\n",
      "******* 47 Files Found at C:\\Users\\plouk\\Adiposer/data/raw\\120h\\mouse_5\n"
     ]
    },
    {
     "name": "stderr",
     "output_type": "stream",
     "text": [
      "\n"
     ]
    },
    {
     "name": "stdout",
     "output_type": "stream",
     "text": [
      "Base directory: C:\\Users\\plouk\\Adiposer/data/raw\\120h\\mouse_5\n",
      "Saving at: C:\\Users\\plouk\\Adiposer/data/interim120h/mouse_5\n",
      "------------ Total Processed Files 0 ------------------\n",
      "Iteration #13\n",
      "  Basename Root dir: 144h\n",
      "  Found DIRs: ['mouse_1', 'mouse_2', 'mouse_3', 'mouse_4', 'mouse_5']\n",
      "Iteration #14\n",
      "  Basename Root dir: mouse_1\n",
      "  Found DIRs: []\n",
      "******* 68 Files Found at C:\\Users\\plouk\\Adiposer/data/raw\\144h\\mouse_1\n"
     ]
    },
    {
     "name": "stderr",
     "output_type": "stream",
     "text": [
      "The system cannot find the path specified.\n",
      "The system cannot find the path specified."
     ]
    },
    {
     "name": "stdout",
     "output_type": "stream",
     "text": [
      "Base directory: C:\\Users\\plouk\\Adiposer/data/raw\\144h\\mouse_1\n",
      "Saving at: C:\\Users\\plouk\\Adiposer/data/interim144h/mouse_1\n",
      "------------ Total Processed Files 0 ------------------\n",
      "Iteration #15\n",
      "  Basename Root dir: mouse_2\n",
      "  Found DIRs: []\n",
      "******* 66 Files Found at C:\\Users\\plouk\\Adiposer/data/raw\\144h\\mouse_2\n"
     ]
    },
    {
     "name": "stderr",
     "output_type": "stream",
     "text": [
      "\n",
      "The system cannot find the path specified."
     ]
    },
    {
     "name": "stdout",
     "output_type": "stream",
     "text": [
      "Base directory: C:\\Users\\plouk\\Adiposer/data/raw\\144h\\mouse_2\n",
      "Saving at: C:\\Users\\plouk\\Adiposer/data/interim144h/mouse_2\n",
      "------------ Total Processed Files 0 ------------------\n",
      "Iteration #16\n",
      "  Basename Root dir: mouse_3\n",
      "  Found DIRs: []\n",
      "******* 67 Files Found at C:\\Users\\plouk\\Adiposer/data/raw\\144h\\mouse_3\n"
     ]
    },
    {
     "name": "stderr",
     "output_type": "stream",
     "text": [
      "\n",
      "The system cannot find the path specified."
     ]
    },
    {
     "name": "stdout",
     "output_type": "stream",
     "text": [
      "Base directory: C:\\Users\\plouk\\Adiposer/data/raw\\144h\\mouse_3\n",
      "Saving at: C:\\Users\\plouk\\Adiposer/data/interim144h/mouse_3\n",
      "------------ Total Processed Files 0 ------------------\n",
      "Iteration #17\n",
      "  Basename Root dir: mouse_4\n",
      "  Found DIRs: []\n",
      "******* 77 Files Found at C:\\Users\\plouk\\Adiposer/data/raw\\144h\\mouse_4\n"
     ]
    },
    {
     "name": "stderr",
     "output_type": "stream",
     "text": [
      "\n",
      "The system cannot find the path specified."
     ]
    },
    {
     "name": "stdout",
     "output_type": "stream",
     "text": [
      "Base directory: C:\\Users\\plouk\\Adiposer/data/raw\\144h\\mouse_4\n",
      "Saving at: C:\\Users\\plouk\\Adiposer/data/interim144h/mouse_4\n",
      "------------ Total Processed Files 0 ------------------\n",
      "Iteration #18\n",
      "  Basename Root dir: mouse_5\n",
      "  Found DIRs: []\n",
      "******* 73 Files Found at C:\\Users\\plouk\\Adiposer/data/raw\\144h\\mouse_5\n"
     ]
    },
    {
     "name": "stderr",
     "output_type": "stream",
     "text": [
      "\n",
      "The system cannot find the path specified."
     ]
    },
    {
     "name": "stdout",
     "output_type": "stream",
     "text": [
      "Base directory: C:\\Users\\plouk\\Adiposer/data/raw\\144h\\mouse_5\n",
      "Saving at: C:\\Users\\plouk\\Adiposer/data/interim144h/mouse_5\n",
      "------------ Total Processed Files 0 ------------------\n",
      "Iteration #19\n",
      "  Basename Root dir: 192h\n",
      "  Found DIRs: ['mouse_1', 'mouse_2', 'mouse_3', 'mouse_4', 'mouse_5']\n",
      "Iteration #20\n",
      "  Basename Root dir: mouse_1\n",
      "  Found DIRs: []\n",
      "******* 73 Files Found at C:\\Users\\plouk\\Adiposer/data/raw\\192h\\mouse_1\n"
     ]
    },
    {
     "name": "stderr",
     "output_type": "stream",
     "text": [
      "\n"
     ]
    },
    {
     "name": "stdout",
     "output_type": "stream",
     "text": [
      "Base directory: C:\\Users\\plouk\\Adiposer/data/raw\\192h\\mouse_1\n",
      "Saving at: C:\\Users\\plouk\\Adiposer/data/interim192h/mouse_1\n",
      "------------ Total Processed Files 0 ------------------\n",
      "Iteration #21\n",
      "  Basename Root dir: mouse_2\n",
      "  Found DIRs: []\n",
      "******* 49 Files Found at C:\\Users\\plouk\\Adiposer/data/raw\\192h\\mouse_2\n"
     ]
    },
    {
     "name": "stderr",
     "output_type": "stream",
     "text": [
      "The system cannot find the path specified.\n"
     ]
    },
    {
     "name": "stdout",
     "output_type": "stream",
     "text": [
      "Base directory: C:\\Users\\plouk\\Adiposer/data/raw\\192h\\mouse_2\n",
      "Saving at: C:\\Users\\plouk\\Adiposer/data/interim192h/mouse_2\n",
      "------------ Total Processed Files 0 ------------------\n",
      "Iteration #22\n",
      "  Basename Root dir: mouse_3\n",
      "  Found DIRs: []\n",
      "******* 49 Files Found at C:\\Users\\plouk\\Adiposer/data/raw\\192h\\mouse_3\n"
     ]
    },
    {
     "name": "stderr",
     "output_type": "stream",
     "text": [
      "The system cannot find the path specified.\n"
     ]
    },
    {
     "name": "stdout",
     "output_type": "stream",
     "text": [
      "Base directory: C:\\Users\\plouk\\Adiposer/data/raw\\192h\\mouse_3\n",
      "Saving at: C:\\Users\\plouk\\Adiposer/data/interim192h/mouse_3\n",
      "------------ Total Processed Files 0 ------------------\n"
     ]
    },
    {
     "name": "stderr",
     "output_type": "stream",
     "text": [
      "The system cannot find the path specified.\n"
     ]
    },
    {
     "name": "stdout",
     "output_type": "stream",
     "text": [
      "Iteration #23\n",
      "  Basename Root dir: mouse_4\n",
      "  Found DIRs: []\n",
      "******* 45 Files Found at C:\\Users\\plouk\\Adiposer/data/raw\\192h\\mouse_4\n"
     ]
    },
    {
     "name": "stderr",
     "output_type": "stream",
     "text": [
      "The system cannot find the path specified.\n"
     ]
    },
    {
     "name": "stdout",
     "output_type": "stream",
     "text": [
      "Base directory: C:\\Users\\plouk\\Adiposer/data/raw\\192h\\mouse_4\n",
      "Saving at: C:\\Users\\plouk\\Adiposer/data/interim192h/mouse_4\n",
      "------------ Total Processed Files 0 ------------------\n",
      "Iteration #24\n",
      "  Basename Root dir: mouse_5\n",
      "  Found DIRs: []\n",
      "******* 53 Files Found at C:\\Users\\plouk\\Adiposer/data/raw\\192h\\mouse_5\n"
     ]
    },
    {
     "name": "stderr",
     "output_type": "stream",
     "text": [
      "The system cannot find the path specified."
     ]
    },
    {
     "name": "stdout",
     "output_type": "stream",
     "text": [
      "Base directory: C:\\Users\\plouk\\Adiposer/data/raw\\192h\\mouse_5\n",
      "Saving at: C:\\Users\\plouk\\Adiposer/data/interim192h/mouse_5\n",
      "------------ Total Processed Files 0 ------------------\n",
      "Iteration #25\n",
      "  Basename Root dir: 240h\n",
      "  Found DIRs: ['mouse_1', 'mouse_2', 'mouse_3', 'mouse_4', 'mouse_5']\n",
      "Iteration #26\n",
      "  Basename Root dir: mouse_1\n",
      "  Found DIRs: []\n",
      "******* 52 Files Found at C:\\Users\\plouk\\Adiposer/data/raw\\240h\\mouse_1\n"
     ]
    },
    {
     "name": "stderr",
     "output_type": "stream",
     "text": [
      "\n",
      "The system cannot find the path specified."
     ]
    },
    {
     "name": "stdout",
     "output_type": "stream",
     "text": [
      "Base directory: C:\\Users\\plouk\\Adiposer/data/raw\\240h\\mouse_1\n",
      "Saving at: C:\\Users\\plouk\\Adiposer/data/interim240h/mouse_1\n",
      "------------ Total Processed Files 0 ------------------\n",
      "Iteration #27\n",
      "  Basename Root dir: mouse_2\n",
      "  Found DIRs: []\n",
      "******* 60 Files Found at C:\\Users\\plouk\\Adiposer/data/raw\\240h\\mouse_2\n"
     ]
    },
    {
     "name": "stderr",
     "output_type": "stream",
     "text": [
      "\n",
      "The system cannot find the path specified."
     ]
    },
    {
     "name": "stdout",
     "output_type": "stream",
     "text": [
      "Base directory: C:\\Users\\plouk\\Adiposer/data/raw\\240h\\mouse_2\n",
      "Saving at: C:\\Users\\plouk\\Adiposer/data/interim240h/mouse_2\n",
      "------------ Total Processed Files 0 ------------------\n",
      "Iteration #28\n",
      "  Basename Root dir: mouse_3\n",
      "  Found DIRs: []\n",
      "******* 61 Files Found at C:\\Users\\plouk\\Adiposer/data/raw\\240h\\mouse_3\n"
     ]
    },
    {
     "name": "stderr",
     "output_type": "stream",
     "text": [
      "\n",
      "The system cannot find the path specified."
     ]
    },
    {
     "name": "stdout",
     "output_type": "stream",
     "text": [
      "Base directory: C:\\Users\\plouk\\Adiposer/data/raw\\240h\\mouse_3\n",
      "Saving at: C:\\Users\\plouk\\Adiposer/data/interim240h/mouse_3\n",
      "------------ Total Processed Files 0 ------------------\n",
      "Iteration #29\n",
      "  Basename Root dir: mouse_4\n",
      "  Found DIRs: []\n",
      "******* 62 Files Found at C:\\Users\\plouk\\Adiposer/data/raw\\240h\\mouse_4\n"
     ]
    },
    {
     "name": "stderr",
     "output_type": "stream",
     "text": [
      "\n",
      "The system cannot find the path specified."
     ]
    },
    {
     "name": "stdout",
     "output_type": "stream",
     "text": [
      "Base directory: C:\\Users\\plouk\\Adiposer/data/raw\\240h\\mouse_4\n",
      "Saving at: C:\\Users\\plouk\\Adiposer/data/interim240h/mouse_4\n",
      "------------ Total Processed Files 0 ------------------\n",
      "Iteration #30\n",
      "  Basename Root dir: mouse_5\n",
      "  Found DIRs: []\n",
      "******* 50 Files Found at C:\\Users\\plouk\\Adiposer/data/raw\\240h\\mouse_5\n"
     ]
    },
    {
     "name": "stderr",
     "output_type": "stream",
     "text": [
      "\n"
     ]
    },
    {
     "name": "stdout",
     "output_type": "stream",
     "text": [
      "Base directory: C:\\Users\\plouk\\Adiposer/data/raw\\240h\\mouse_5\n",
      "Saving at: C:\\Users\\plouk\\Adiposer/data/interim240h/mouse_5\n",
      "------------ Total Processed Files 0 ------------------\n",
      "Iteration #31\n",
      "  Basename Root dir: 24h\n",
      "  Found DIRs: ['mouse_1', 'mouse_2', 'mouse_3', 'mouse_4', 'mouse_5']\n",
      "Iteration #32\n",
      "  Basename Root dir: mouse_1\n",
      "  Found DIRs: []\n",
      "******* 39 Files Found at C:\\Users\\plouk\\Adiposer/data/raw\\24h\\mouse_1\n"
     ]
    },
    {
     "name": "stderr",
     "output_type": "stream",
     "text": [
      "The system cannot find the path specified.\n",
      "The system cannot find the path specified."
     ]
    },
    {
     "name": "stdout",
     "output_type": "stream",
     "text": [
      "Base directory: C:\\Users\\plouk\\Adiposer/data/raw\\24h\\mouse_1\n",
      "Saving at: C:\\Users\\plouk\\Adiposer/data/interim24h/mouse_1\n",
      "------------ Total Processed Files 0 ------------------\n",
      "Iteration #33\n",
      "  Basename Root dir: mouse_2\n",
      "  Found DIRs: []\n",
      "******* 62 Files Found at C:\\Users\\plouk\\Adiposer/data/raw\\24h\\mouse_2\n"
     ]
    },
    {
     "name": "stderr",
     "output_type": "stream",
     "text": [
      "\n",
      "The system cannot find the path specified.\n"
     ]
    },
    {
     "name": "stdout",
     "output_type": "stream",
     "text": [
      "Base directory: C:\\Users\\plouk\\Adiposer/data/raw\\24h\\mouse_2\n",
      "Saving at: C:\\Users\\plouk\\Adiposer/data/interim24h/mouse_2\n",
      "------------ Total Processed Files 0 ------------------\n",
      "Iteration #34\n",
      "  Basename Root dir: mouse_3\n",
      "  Found DIRs: []\n",
      "******* 87 Files Found at C:\\Users\\plouk\\Adiposer/data/raw\\24h\\mouse_3\n"
     ]
    },
    {
     "name": "stderr",
     "output_type": "stream",
     "text": [
      "The system cannot find the path specified.\n"
     ]
    },
    {
     "name": "stdout",
     "output_type": "stream",
     "text": [
      "Base directory: C:\\Users\\plouk\\Adiposer/data/raw\\24h\\mouse_3\n",
      "Saving at: C:\\Users\\plouk\\Adiposer/data/interim24h/mouse_3\n",
      "------------ Total Processed Files 0 ------------------\n",
      "Iteration #35\n",
      "  Basename Root dir: mouse_4\n",
      "  Found DIRs: []\n",
      "******* 51 Files Found at C:\\Users\\plouk\\Adiposer/data/raw\\24h\\mouse_4\n"
     ]
    },
    {
     "name": "stderr",
     "output_type": "stream",
     "text": [
      "The system cannot find the path specified."
     ]
    },
    {
     "name": "stdout",
     "output_type": "stream",
     "text": [
      "Base directory: C:\\Users\\plouk\\Adiposer/data/raw\\24h\\mouse_4\n",
      "Saving at: C:\\Users\\plouk\\Adiposer/data/interim24h/mouse_4\n",
      "------------ Total Processed Files 0 ------------------\n",
      "Iteration #36\n",
      "  Basename Root dir: mouse_5\n",
      "  Found DIRs: []\n",
      "******* 51 Files Found at C:\\Users\\plouk\\Adiposer/data/raw\\24h\\mouse_5\n"
     ]
    },
    {
     "name": "stderr",
     "output_type": "stream",
     "text": [
      "\n"
     ]
    },
    {
     "name": "stdout",
     "output_type": "stream",
     "text": [
      "Base directory: C:\\Users\\plouk\\Adiposer/data/raw\\24h\\mouse_5"
     ]
    },
    {
     "name": "stderr",
     "output_type": "stream",
     "text": [
      "The system cannot find the path specified.\n"
     ]
    },
    {
     "name": "stdout",
     "output_type": "stream",
     "text": [
      "\n",
      "Saving at: C:\\Users\\plouk\\Adiposer/data/interim24h/mouse_5\n",
      "------------ Total Processed Files 0 ------------------\n",
      "Iteration #37\n",
      "  Basename Root dir: 48h\n",
      "  Found DIRs: ['mouse_1', 'mouse_2', 'mouse_3', 'mouse_4', 'mouse_5']\n",
      "Iteration #38\n",
      "  Basename Root dir: mouse_1\n",
      "  Found DIRs: []\n",
      "******* 45 Files Found at C:\\Users\\plouk\\Adiposer/data/raw\\48h\\mouse_1\n"
     ]
    },
    {
     "name": "stderr",
     "output_type": "stream",
     "text": [
      "The system cannot find the path specified."
     ]
    },
    {
     "name": "stdout",
     "output_type": "stream",
     "text": [
      "Base directory: C:\\Users\\plouk\\Adiposer/data/raw\\48h\\mouse_1\n",
      "Saving at: C:\\Users\\plouk\\Adiposer/data/interim48h/mouse_1\n",
      "------------ Total Processed Files 0 ------------------\n",
      "Iteration #39\n",
      "  Basename Root dir: mouse_2\n",
      "  Found DIRs: []\n",
      "******* 58 Files Found at C:\\Users\\plouk\\Adiposer/data/raw\\48h\\mouse_2\n"
     ]
    },
    {
     "name": "stderr",
     "output_type": "stream",
     "text": [
      "\n",
      "The system cannot find the path specified."
     ]
    },
    {
     "name": "stdout",
     "output_type": "stream",
     "text": [
      "Base directory: C:\\Users\\plouk\\Adiposer/data/raw\\48h\\mouse_2\n",
      "Saving at: C:\\Users\\plouk\\Adiposer/data/interim48h/mouse_2\n",
      "------------ Total Processed Files 0 ------------------\n",
      "Iteration #40\n",
      "  Basename Root dir: mouse_3\n",
      "  Found DIRs: []\n",
      "******* 47 Files Found at C:\\Users\\plouk\\Adiposer/data/raw\\48h\\mouse_3\n"
     ]
    },
    {
     "name": "stderr",
     "output_type": "stream",
     "text": [
      "\n",
      "The system cannot find the path specified."
     ]
    },
    {
     "name": "stdout",
     "output_type": "stream",
     "text": [
      "Base directory: C:\\Users\\plouk\\Adiposer/data/raw\\48h\\mouse_3\n",
      "Saving at: C:\\Users\\plouk\\Adiposer/data/interim48h/mouse_3\n",
      "------------ Total Processed Files 0 ------------------\n",
      "Iteration #41\n",
      "  Basename Root dir: mouse_4\n",
      "  Found DIRs: []\n",
      "******* 62 Files Found at C:\\Users\\plouk\\Adiposer/data/raw\\48h\\mouse_4\n"
     ]
    },
    {
     "name": "stderr",
     "output_type": "stream",
     "text": [
      "\n",
      "The system cannot find the path specified.\n"
     ]
    },
    {
     "name": "stdout",
     "output_type": "stream",
     "text": [
      "Base directory: C:\\Users\\plouk\\Adiposer/data/raw\\48h\\mouse_4\n",
      "Saving at: C:\\Users\\plouk\\Adiposer/data/interim48h/mouse_4\n",
      "------------ Total Processed Files 0 ------------------\n",
      "Iteration #42\n",
      "  Basename Root dir: mouse_5\n",
      "  Found DIRs: []\n",
      "******* 82 Files Found at C:\\Users\\plouk\\Adiposer/data/raw\\48h\\mouse_5\n",
      "Base directory: C:\\Users\\plouk\\Adiposer/data/raw\\48h\\mouse_5\n",
      "Saving at: C:\\Users\\plouk\\Adiposer/data/interim48h/mouse_5\n",
      "------------ Total Processed Files 0 ------------------\n",
      "Iteration #43\n",
      "  Basename Root dir: 72h\n",
      "  Found DIRs: ['mouse_1', 'mouse_2', 'mouse_3', 'mouse_4', 'mouse_5']\n",
      "Iteration #44\n",
      "  Basename Root dir: mouse_1\n",
      "  Found DIRs: []\n",
      "******* 49 Files Found at C:\\Users\\plouk\\Adiposer/data/raw\\72h\\mouse_1\n"
     ]
    },
    {
     "name": "stderr",
     "output_type": "stream",
     "text": [
      "The system cannot find the path specified.\n"
     ]
    },
    {
     "name": "stdout",
     "output_type": "stream",
     "text": [
      "Base directory: C:\\Users\\plouk\\Adiposer/data/raw\\72h\\mouse_1\n",
      "Saving at: C:\\Users\\plouk\\Adiposer/data/interim72h/mouse_1\n",
      "------------ Total Processed Files 0 ------------------\n",
      "Iteration #45\n",
      "  Basename Root dir: mouse_2\n",
      "  Found DIRs: []\n",
      "******* 61 Files Found at C:\\Users\\plouk\\Adiposer/data/raw\\72h\\mouse_2\n"
     ]
    },
    {
     "name": "stderr",
     "output_type": "stream",
     "text": [
      "The system cannot find the path specified.\n"
     ]
    },
    {
     "name": "stdout",
     "output_type": "stream",
     "text": [
      "Base directory: C:\\Users\\plouk\\Adiposer/data/raw\\72h\\mouse_2\n",
      "Saving at: C:\\Users\\plouk\\Adiposer/data/interim72h/mouse_2\n",
      "------------ Total Processed Files 0 ------------------\n",
      "Iteration #46\n",
      "  Basename Root dir: mouse_3\n",
      "  Found DIRs: []\n",
      "******* 51 Files Found at C:\\Users\\plouk\\Adiposer/data/raw\\72h\\mouse_3\n"
     ]
    },
    {
     "name": "stderr",
     "output_type": "stream",
     "text": [
      "The system cannot find the path specified.\n"
     ]
    },
    {
     "name": "stdout",
     "output_type": "stream",
     "text": [
      "Base directory: C:\\Users\\plouk\\Adiposer/data/raw\\72h\\mouse_3\n",
      "Saving at: C:\\Users\\plouk\\Adiposer/data/interim72h/mouse_3\n",
      "------------ Total Processed Files 0 ------------------\n",
      "Iteration #47\n",
      "  Basename Root dir: mouse_4\n",
      "  Found DIRs: []\n",
      "******* 59 Files Found at C:\\Users\\plouk\\Adiposer/data/raw\\72h\\mouse_4\n"
     ]
    },
    {
     "name": "stderr",
     "output_type": "stream",
     "text": [
      "The system cannot find the path specified.\n"
     ]
    },
    {
     "name": "stdout",
     "output_type": "stream",
     "text": [
      "Base directory: C:\\Users\\plouk\\Adiposer/data/raw\\72h\\mouse_4\n",
      "Saving at: C:\\Users\\plouk\\Adiposer/data/interim72h/mouse_4\n",
      "------------ Total Processed Files 0 ------------------\n",
      "Iteration #48\n",
      "  Basename Root dir: mouse_5\n",
      "  Found DIRs: []\n",
      "******* 64 Files Found at C:\\Users\\plouk\\Adiposer/data/raw\\72h\\mouse_5\n"
     ]
    },
    {
     "name": "stderr",
     "output_type": "stream",
     "text": [
      "The system cannot find the path specified.\n",
      "The system cannot find the path specified.\n"
     ]
    },
    {
     "name": "stdout",
     "output_type": "stream",
     "text": [
      "Base directory: C:\\Users\\plouk\\Adiposer/data/raw\\72h\\mouse_5\n",
      "Saving at: C:\\Users\\plouk\\Adiposer/data/interim72h/mouse_5\n",
      "------------ Total Processed Files 0 ------------------\n",
      "Iteration #49\n",
      "  Basename Root dir: 96h\n",
      "  Found DIRs: ['mouse_1', 'mouse_2', 'mouse_3', 'mouse_4', 'mouse_5']\n",
      "Iteration #50\n",
      "  Basename Root dir: mouse_1\n",
      "  Found DIRs: []\n",
      "******* 56 Files Found at C:\\Users\\plouk\\Adiposer/data/raw\\96h\\mouse_1\n"
     ]
    },
    {
     "name": "stderr",
     "output_type": "stream",
     "text": [
      "The system cannot find the path specified.\n"
     ]
    },
    {
     "name": "stdout",
     "output_type": "stream",
     "text": [
      "Base directory: C:\\Users\\plouk\\Adiposer/data/raw\\96h\\mouse_1\n",
      "Saving at: C:\\Users\\plouk\\Adiposer/data/interim96h/mouse_1\n",
      "------------ Total Processed Files 0 ------------------\n",
      "Iteration #51\n",
      "  Basename Root dir: mouse_2\n",
      "  Found DIRs: []\n",
      "******* 64 Files Found at C:\\Users\\plouk\\Adiposer/data/raw\\96h\\mouse_2\n",
      "Base directory: C:\\Users\\plouk\\Adiposer/data/raw\\96h\\mouse_2\n",
      "Saving at: C:\\Users\\plouk\\Adiposer/data/interim96h/mouse_2\n",
      "------------ Total Processed Files 0 ------------------\n",
      "Iteration #52\n",
      "  Basename Root dir: mouse_3\n",
      "  Found DIRs: []\n",
      "******* 56 Files Found at C:\\Users\\plouk\\Adiposer/data/raw\\96h\\mouse_3\n"
     ]
    },
    {
     "name": "stderr",
     "output_type": "stream",
     "text": [
      "The system cannot find the path specified.\n"
     ]
    },
    {
     "name": "stdout",
     "output_type": "stream",
     "text": [
      "Base directory: C:\\Users\\plouk\\Adiposer/data/raw\\96h\\mouse_3\n",
      "Saving at: C:\\Users\\plouk\\Adiposer/data/interim96h/mouse_3\n",
      "------------ Total Processed Files 0 ------------------\n",
      "Iteration #53\n",
      "  Basename Root dir: mouse_4\n",
      "  Found DIRs: []\n",
      "******* 60 Files Found at C:\\Users\\plouk\\Adiposer/data/raw\\96h\\mouse_4\n"
     ]
    },
    {
     "name": "stderr",
     "output_type": "stream",
     "text": [
      "The system cannot find the path specified.\n"
     ]
    },
    {
     "name": "stdout",
     "output_type": "stream",
     "text": [
      "Base directory: C:\\Users\\plouk\\Adiposer/data/raw\\96h\\mouse_4\n",
      "Saving at: C:\\Users\\plouk\\Adiposer/data/interim96h/mouse_4\n",
      "------------ Total Processed Files 0 ------------------\n",
      "Iteration #54\n",
      "  Basename Root dir: mouse_5\n",
      "  Found DIRs: []\n",
      "******* 82 Files Found at C:\\Users\\plouk\\Adiposer/data/raw\\96h\\mouse_5\n"
     ]
    },
    {
     "name": "stderr",
     "output_type": "stream",
     "text": [
      "The system cannot find the path specified.\n"
     ]
    },
    {
     "name": "stdout",
     "output_type": "stream",
     "text": [
      "Base directory: C:\\Users\\plouk\\Adiposer/data/raw\\96h\\mouse_5\n",
      "Saving at: C:\\Users\\plouk\\Adiposer/data/interim96h/mouse_5\n",
      "------------ Total Processed Files 0 ------------------\n"
     ]
    },
    {
     "name": "stderr",
     "output_type": "stream",
     "text": [
      "The system cannot find the path specified.\n"
     ]
    }
   ],
   "source": [
    "processed_files = 0\n",
    "for i, (raw_root, raw_dirs, raw_files) in enumerate(os.walk(RAW_DIR)):\n",
    "    # raw_root : string of a POSIX-style directory\n",
    "    # raw_dirs : list of subdirectories basenames\n",
    "    # raw_files: list of filenames in the directory\n",
    "    print(f'Iteration #{i}')\n",
    "    print(f'  Basename Root dir: {os.path.basename(raw_root)}')\n",
    "    print(f'  Found DIRs: {str(raw_dirs)}')\n",
    "\n",
    "    if len(raw_dirs) == 0: # 3. Οχι άλλα subdirectories - Δεδομένα εικόνων \n",
    "        print(f'******* {len(raw_files)} Files Found at {raw_root}')\n",
    "\n",
    "        parent_dir = os.path.abspath(os.path.join(raw_root, os.pardir))\n",
    "        sample_h = os.path.basename(parent_dir)\n",
    "\n",
    "        if raw_root.endswith('1'):\n",
    "            mouse_id = 'mouse_1'\n",
    "        elif raw_root.endswith('2'):\n",
    "            mouse_id = 'mouse_2'\n",
    "        elif raw_root.endswith('3'):\n",
    "            mouse_id = 'mouse_3'\n",
    "        elif raw_root.endswith('4'):\n",
    "            mouse_id = 'mouse_4'\n",
    "        elif raw_root.endswith('5'):\n",
    "            mouse_id = 'mouse_5'\n",
    "\n",
    "        SAVE_DIR = INTERIM_DIR + f'{sample_h}/{mouse_id}'\n",
    "        FILE_NAME = SAVE_DIR + f'/{mouse_id}.csv'\n",
    "        \n",
    "        !exiftool.exe -csv {raw_root} > {FILE_NAME}.csv\n",
    "\n",
    "        #print(f'Base directory: {os.path.basename(raw_root)}')\n",
    "        print(f'Base directory: {raw_root}')\n",
    "        print(f'Saving at: {SAVE_DIR}')\n",
    "        # full_path_target = [raw_root + '/' + raw_file for raw_file in raw_files]\n",
    "        # processed_files += process_targets(full_path_target, raw_files, SAVE_DIR)\n",
    "\n",
    "        print(f'------------ Total Processed Files {processed_files} ------------------')"
   ]
  }
 ],
 "metadata": {
  "kernelspec": {
   "display_name": "Python 3",
   "language": "python",
   "name": "python3"
  },
  "language_info": {
   "codemirror_mode": {
    "name": "ipython",
    "version": 3
   },
   "file_extension": ".py",
   "mimetype": "text/x-python",
   "name": "python",
   "nbconvert_exporter": "python",
   "pygments_lexer": "ipython3",
   "version": "3.8.3"
  }
 },
 "nbformat": 4,
 "nbformat_minor": 5
}
