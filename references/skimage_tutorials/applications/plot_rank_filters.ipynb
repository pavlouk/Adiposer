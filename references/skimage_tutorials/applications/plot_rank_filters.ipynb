{
 "cells": [
  {
   "cell_type": "markdown",
   "metadata": {},
   "source": [
    "\n",
    "<br>\n",
    "============<br>\n",
    "Rank filters<br>\n",
    "============<br>\n",
    "Rank filters are non-linear filters using local gray-level ordering to<br>\n",
    "compute the filtered value. This ensemble of filters share a common base:<br>\n",
    "the local gray-level histogram is computed on the neighborhood of a pixel<br>\n",
    "(defined by a 2D structuring element). If the filtered value is taken as the<br>\n",
    "middle value of the histogram, we get the classical median filter.<br>\n",
    "Rank filters can be used for several purposes, such as:<br>\n",
    "* image quality enhancement,<br>\n",
    "  e.g., image smoothing, sharpening<br>\n",
    "* image pre-processing,<br>\n",
    "  e.g., noise reduction, contrast enhancement<br>\n",
    "* feature extraction,<br>\n",
    "  e.g., border detection, isolated point detection<br>\n",
    "* image post-processing,<br>\n",
    "  e.g., small object removal, object grouping, contour smoothing<br>\n",
    "Some well-known filters (e.g., morphological dilation and morphological<br>\n",
    "erosion) are specific cases of rank filters [1]_.<br>\n",
    "In this example, we will see how to filter a gray-level image using some of the<br>\n",
    "linear and non-linear filters available in skimage. We use the ``camera`` image<br>\n",
    "from `skimage.data` for all comparisons.<br>\n",
    ".. [1] Pierre Soille, On morphological operators based on rank filters, Pattern<br>\n",
    "       Recognition 35 (2002) 527-535, :DOI:`10.1016/S0031-3203(01)00047-4`<br>\n"
   ]
  },
  {
   "cell_type": "code",
   "execution_count": 1,
   "metadata": {},
   "outputs": [],
   "source": [
    "import numpy as np\n",
    "import matplotlib.pyplot as plt"
   ]
  },
  {
   "cell_type": "code",
   "execution_count": 2,
   "metadata": {},
   "outputs": [],
   "source": [
    "from skimage.util import img_as_ubyte\n",
    "from skimage import data\n",
    "from skimage.exposure import histogram"
   ]
  },
  {
   "cell_type": "code",
   "execution_count": 3,
   "metadata": {},
   "outputs": [],
   "source": [
    "noisy_image = img_as_ubyte(data.camera())\n",
    "hist, hist_centers = histogram(noisy_image)"
   ]
  },
  {
   "cell_type": "code",
   "execution_count": 4,
   "metadata": {},
   "outputs": [
    {
     "data": {
      "image/png": "[encoded data removed]",
      "text/plain": [
       "<Figure size 720x360 with 2 Axes>"
      ]
     },
     "metadata": {
      "needs_background": "light"
     },
     "output_type": "display_data"
    }
   ],
   "source": [
    "fig, ax = plt.subplots(ncols=2, figsize=(10, 5))"
   ]
  },
  {
   "cell_type": "code",
   "execution_count": 5,
   "metadata": {},
   "outputs": [
    {
     "data": {
      "text/plain": [
       "(-0.5, 511.5, 511.5, -0.5)"
      ]
     },
     "execution_count": 5,
     "metadata": {},
     "output_type": "execute_result"
    }
   ],
   "source": [
    "ax[0].imshow(noisy_image, cmap=plt.cm.gray)\n",
    "ax[0].axis('off')"
   ]
  },
  {
   "cell_type": "code",
   "execution_count": 6,
   "metadata": {},
   "outputs": [
    {
     "data": {
      "text/plain": [
       "Text(0.5, 1.0, 'Gray-level histogram')"
      ]
     },
     "execution_count": 6,
     "metadata": {},
     "output_type": "execute_result"
    }
   ],
   "source": [
    "ax[1].plot(hist_centers, hist, lw=2)\n",
    "ax[1].set_title('Gray-level histogram')"
   ]
  },
  {
   "cell_type": "code",
   "execution_count": 7,
   "metadata": {},
   "outputs": [
    {
     "data": {
      "text/plain": [
       "<Figure size 432x288 with 0 Axes>"
      ]
     },
     "metadata": {},
     "output_type": "display_data"
    }
   ],
   "source": [
    "plt.tight_layout()"
   ]
  },
  {
   "cell_type": "markdown",
   "metadata": {},
   "source": [
    "####################################################################<br>\n",
    "<br>\n",
    "Noise removal<br>\n",
    "=============<br>\n",
    "<br>\n",
    "Some noise is added to the image: 1% of pixels are randomly set to 255, 1%<br>\n",
    "are randomly set to 0. The **median** filter is applied to remove the<br>\n",
    "noise."
   ]
  },
  {
   "cell_type": "code",
   "execution_count": 8,
   "metadata": {},
   "outputs": [],
   "source": [
    "from skimage.filters.rank import median\n",
    "from skimage.morphology import disk, ball"
   ]
  },
  {
   "cell_type": "code",
   "execution_count": 9,
   "metadata": {},
   "outputs": [],
   "source": [
    "noise = np.random.random(noisy_image.shape)\n",
    "noisy_image = img_as_ubyte(data.camera())\n",
    "noisy_image[noise > 0.99] = 255\n",
    "noisy_image[noise < 0.01] = 0"
   ]
  },
  {
   "cell_type": "code",
   "execution_count": 10,
   "metadata": {},
   "outputs": [
    {
     "data": {
      "image/png": "[encoded data removed]",
      "text/plain": [
       "<Figure size 720x720 with 4 Axes>"
      ]
     },
     "metadata": {
      "needs_background": "light"
     },
     "output_type": "display_data"
    }
   ],
   "source": [
    "fig, axes = plt.subplots(2, 2, figsize=(10, 10), sharex=True, sharey=True)\n",
    "ax = axes.ravel()"
   ]
  },
  {
   "cell_type": "code",
   "execution_count": 11,
   "metadata": {},
   "outputs": [
    {
     "data": {
      "text/plain": [
       "Text(0.5, 1.0, 'Noisy image')"
      ]
     },
     "execution_count": 11,
     "metadata": {},
     "output_type": "execute_result"
    }
   ],
   "source": [
    "ax[0].imshow(noisy_image, vmin=0, vmax=255, cmap=plt.cm.gray)\n",
    "ax[0].set_title('Noisy image')"
   ]
  },
  {
   "cell_type": "code",
   "execution_count": 12,
   "metadata": {},
   "outputs": [
    {
     "data": {
      "text/plain": [
       "Text(0.5, 1.0, 'Median $r=1$')"
      ]
     },
     "execution_count": 12,
     "metadata": {},
     "output_type": "execute_result"
    }
   ],
   "source": [
    "ax[1].imshow(median(noisy_image, disk(1)), vmin=0, vmax=255, cmap=plt.cm.gray)\n",
    "ax[1].set_title('Median $r=1$')"
   ]
  },
  {
   "cell_type": "code",
   "execution_count": 13,
   "metadata": {},
   "outputs": [
    {
     "data": {
      "text/plain": [
       "Text(0.5, 1.0, 'Median $r=5$')"
      ]
     },
     "execution_count": 13,
     "metadata": {},
     "output_type": "execute_result"
    }
   ],
   "source": [
    "ax[2].imshow(median(noisy_image, disk(5)), vmin=0, vmax=255, cmap=plt.cm.gray)\n",
    "ax[2].set_title('Median $r=5$')"
   ]
  },
  {
   "cell_type": "code",
   "execution_count": 14,
   "metadata": {},
   "outputs": [
    {
     "data": {
      "text/plain": [
       "Text(0.5, 1.0, 'Median $r=20$')"
      ]
     },
     "execution_count": 14,
     "metadata": {},
     "output_type": "execute_result"
    }
   ],
   "source": [
    "ax[3].imshow(median(noisy_image, disk(20)), vmin=0, vmax=255, cmap=plt.cm.gray)\n",
    "ax[3].set_title('Median $r=20$')"
   ]
  },
  {
   "cell_type": "code",
   "execution_count": 15,
   "metadata": {},
   "outputs": [],
   "source": [
    "for a in ax:\n",
    "    a.axis('off')"
   ]
  },
  {
   "cell_type": "code",
   "execution_count": 16,
   "metadata": {},
   "outputs": [
    {
     "data": {
      "text/plain": [
       "<Figure size 432x288 with 0 Axes>"
      ]
     },
     "metadata": {},
     "output_type": "display_data"
    }
   ],
   "source": [
    "plt.tight_layout()"
   ]
  },
  {
   "cell_type": "markdown",
   "metadata": {},
   "source": [
    "####################################################################<br>\n",
    "<br>\n",
    "The added noise is efficiently removed, as the image defaults are small (1-\\<br>\n",
    "pixel wide), a small filter radius is sufficient. As the radius<br>\n",
    "increases, objects with bigger sizes get filtered as well, such as the<br>\n",
    "camera tripod. The median filter is often used for noise removal because it<br>\n",
    "preserves borders. For example, consider noise which is located only on a<br>\n",
    "few pixels in the entire image, as is the case with salt-and-pepper noise<br>\n",
    "[2]_: the median filter will ignore the noisy pixels, for they will appear<br>\n",
    "as outliers; thus, it will not change significantly the median of a group of<br>\n",
    "local pixels, in contrast to what a moving average filter would do.<br>\n",
    "<br>\n",
    ".. [2] https://en.wikipedia.org/wiki/Salt-and-pepper_noise<br>\n",
    "<br>\n",
    "Image smoothing<br>\n",
    "===============<br>\n",
    "<br>\n",
    "The example hereunder shows how a local **mean** filter smooths the camera<br>\n",
    "man image."
   ]
  },
  {
   "cell_type": "code",
   "execution_count": 17,
   "metadata": {},
   "outputs": [],
   "source": [
    "from skimage.filters.rank import mean"
   ]
  },
  {
   "cell_type": "code",
   "execution_count": 18,
   "metadata": {},
   "outputs": [],
   "source": [
    "loc_mean = mean(noisy_image, disk(10))"
   ]
  },
  {
   "cell_type": "code",
   "execution_count": 19,
   "metadata": {},
   "outputs": [
    {
     "data": {
      "image/png": "[encoded data removed]",
      "text/plain": [
       "<Figure size 720x360 with 2 Axes>"
      ]
     },
     "metadata": {
      "needs_background": "light"
     },
     "output_type": "display_data"
    }
   ],
   "source": [
    "fig, ax = plt.subplots(ncols=2, figsize=(10, 5), sharex=True, sharey=True)"
   ]
  },
  {
   "cell_type": "code",
   "execution_count": 20,
   "metadata": {},
   "outputs": [
    {
     "data": {
      "text/plain": [
       "Text(0.5, 1.0, 'Original')"
      ]
     },
     "execution_count": 20,
     "metadata": {},
     "output_type": "execute_result"
    }
   ],
   "source": [
    "ax[0].imshow(noisy_image, vmin=0, vmax=255, cmap=plt.cm.gray)\n",
    "ax[0].set_title('Original')"
   ]
  },
  {
   "cell_type": "code",
   "execution_count": 21,
   "metadata": {},
   "outputs": [
    {
     "data": {
      "text/plain": [
       "Text(0.5, 1.0, 'Local mean $r=10$')"
      ]
     },
     "execution_count": 21,
     "metadata": {},
     "output_type": "execute_result"
    }
   ],
   "source": [
    "ax[1].imshow(loc_mean, vmin=0, vmax=255, cmap=plt.cm.gray)\n",
    "ax[1].set_title('Local mean $r=10$')"
   ]
  },
  {
   "cell_type": "code",
   "execution_count": 22,
   "metadata": {},
   "outputs": [],
   "source": [
    "for a in ax:\n",
    "    a.axis('off')"
   ]
  },
  {
   "cell_type": "code",
   "execution_count": 23,
   "metadata": {},
   "outputs": [
    {
     "data": {
      "text/plain": [
       "<Figure size 432x288 with 0 Axes>"
      ]
     },
     "metadata": {},
     "output_type": "display_data"
    }
   ],
   "source": [
    "plt.tight_layout()"
   ]
  },
  {
   "cell_type": "markdown",
   "metadata": {},
   "source": [
    "####################################################################<br>\n",
    "<br>\n",
    "One may be interested in smoothing an image while preserving important<br>\n",
    "borders (median filters already achieved this). Here, we use the<br>\n",
    "**bilateral** filter that restricts the local neighborhood to pixels with<br>\n",
    "gray levels similar to the central one.<br>\n",
    "<br>\n",
    ".. note::<br>\n",
    "<br>\n",
    "    A different implementation is available for color images in<br>\n",
    "    :func:`skimage.restoration.denoise_bilateral`."
   ]
  },
  {
   "cell_type": "code",
   "execution_count": 24,
   "metadata": {},
   "outputs": [],
   "source": [
    "from skimage.filters.rank import mean_bilateral"
   ]
  },
  {
   "cell_type": "code",
   "execution_count": 25,
   "metadata": {},
   "outputs": [],
   "source": [
    "noisy_image = img_as_ubyte(data.camera())"
   ]
  },
  {
   "cell_type": "code",
   "execution_count": 26,
   "metadata": {},
   "outputs": [],
   "source": [
    "bilat = mean_bilateral(noisy_image.astype(np.uint16), disk(20), s0=10, s1=10)"
   ]
  },
  {
   "cell_type": "code",
   "execution_count": 27,
   "metadata": {},
   "outputs": [
    {
     "data": {
      "image/png": "[encoded data removed]",
      "text/plain": [
       "<Figure size 720x720 with 4 Axes>"
      ]
     },
     "metadata": {
      "needs_background": "light"
     },
     "output_type": "display_data"
    }
   ],
   "source": [
    "fig, axes = plt.subplots(nrows=2, ncols=2, figsize=(10, 10),\n",
    "                         sharex='row', sharey='row')\n",
    "ax = axes.ravel()"
   ]
  },
  {
   "cell_type": "code",
   "execution_count": 28,
   "metadata": {},
   "outputs": [
    {
     "data": {
      "text/plain": [
       "Text(0.5, 1.0, 'Original')"
      ]
     },
     "execution_count": 28,
     "metadata": {},
     "output_type": "execute_result"
    }
   ],
   "source": [
    "ax[0].imshow(noisy_image, cmap=plt.cm.gray)\n",
    "ax[0].set_title('Original')"
   ]
  },
  {
   "cell_type": "code",
   "execution_count": 29,
   "metadata": {},
   "outputs": [
    {
     "data": {
      "text/plain": [
       "Text(0.5, 1.0, 'Bilateral mean')"
      ]
     },
     "execution_count": 29,
     "metadata": {},
     "output_type": "execute_result"
    }
   ],
   "source": [
    "ax[1].imshow(bilat, cmap=plt.cm.gray)\n",
    "ax[1].set_title('Bilateral mean')"
   ]
  },
  {
   "cell_type": "code",
   "execution_count": 30,
   "metadata": {},
   "outputs": [
    {
     "data": {
      "text/plain": [
       "<matplotlib.image.AxesImage at 0x1d20db09af0>"
      ]
     },
     "execution_count": 30,
     "metadata": {},
     "output_type": "execute_result"
    }
   ],
   "source": [
    "ax[2].imshow(noisy_image[100:250, 350:450], cmap=plt.cm.gray)"
   ]
  },
  {
   "cell_type": "code",
   "execution_count": 31,
   "metadata": {},
   "outputs": [
    {
     "data": {
      "text/plain": [
       "<matplotlib.image.AxesImage at 0x1d20db09970>"
      ]
     },
     "execution_count": 31,
     "metadata": {},
     "output_type": "execute_result"
    }
   ],
   "source": [
    "ax[3].imshow(bilat[100:250, 350:450], cmap=plt.cm.gray)"
   ]
  },
  {
   "cell_type": "code",
   "execution_count": 32,
   "metadata": {},
   "outputs": [],
   "source": [
    "for a in ax:\n",
    "    a.axis('off')"
   ]
  },
  {
   "cell_type": "code",
   "execution_count": 33,
   "metadata": {},
   "outputs": [
    {
     "data": {
      "text/plain": [
       "<Figure size 432x288 with 0 Axes>"
      ]
     },
     "metadata": {},
     "output_type": "display_data"
    }
   ],
   "source": [
    "plt.tight_layout()"
   ]
  },
  {
   "cell_type": "markdown",
   "metadata": {},
   "source": [
    "####################################################################<br>\n",
    "One can see that the large continuous part of the image (e.g. sky) is<br>\n",
    "smoothed whereas other details are preserved.<br>\n",
    "<br>\n",
    "Contrast enhancement<br>\n",
    "====================<br>\n",
    "<br>\n",
    "We compare here how the global histogram equalization is applied locally.<br>\n",
    "<br>\n",
    "The equalized image [3]_ has a roughly linear cumulative distribution<br>\n",
    "function for each pixel neighborhood. The local version [4]_ of<br>\n",
    "histogram equalization emphasizes every local gray-level variation.<br>\n",
    "<br>\n",
    ".. [3] https://en.wikipedia.org/wiki/Histogram_equalization<br>\n",
    ".. [4] https://en.wikipedia.org/wiki/Adaptive_histogram_equalization"
   ]
  },
  {
   "cell_type": "code",
   "execution_count": 34,
   "metadata": {},
   "outputs": [],
   "source": [
    "from skimage import exposure\n",
    "from skimage.filters import rank"
   ]
  },
  {
   "cell_type": "code",
   "execution_count": 35,
   "metadata": {},
   "outputs": [],
   "source": [
    "noisy_image = img_as_ubyte(data.camera())"
   ]
  },
  {
   "cell_type": "markdown",
   "metadata": {},
   "source": [
    "equalize globally and locally"
   ]
  },
  {
   "cell_type": "code",
   "execution_count": 36,
   "metadata": {},
   "outputs": [],
   "source": [
    "glob = exposure.equalize_hist(noisy_image) * 255\n",
    "loc = rank.equalize(noisy_image, disk(20))"
   ]
  },
  {
   "cell_type": "markdown",
   "metadata": {},
   "source": [
    "extract histogram for each image"
   ]
  },
  {
   "cell_type": "code",
   "execution_count": 37,
   "metadata": {},
   "outputs": [],
   "source": [
    "hist = np.histogram(noisy_image, bins=np.arange(0, 256))\n",
    "glob_hist = np.histogram(glob, bins=np.arange(0, 256))\n",
    "loc_hist = np.histogram(loc, bins=np.arange(0, 256))"
   ]
  },
  {
   "cell_type": "code",
   "execution_count": 38,
   "metadata": {},
   "outputs": [
    {
     "data": {
      "image/png": "[encoded data removed]",
      "text/plain": [
       "<Figure size 864x864 with 6 Axes>"
      ]
     },
     "metadata": {
      "needs_background": "light"
     },
     "output_type": "display_data"
    }
   ],
   "source": [
    "fig, axes = plt.subplots(nrows=3, ncols=2, figsize=(12, 12))\n",
    "ax = axes.ravel()"
   ]
  },
  {
   "cell_type": "code",
   "execution_count": 39,
   "metadata": {},
   "outputs": [
    {
     "data": {
      "text/plain": [
       "(-0.5, 511.5, 511.5, -0.5)"
      ]
     },
     "execution_count": 39,
     "metadata": {},
     "output_type": "execute_result"
    }
   ],
   "source": [
    "ax[0].imshow(noisy_image, cmap=plt.cm.gray)\n",
    "ax[0].axis('off')"
   ]
  },
  {
   "cell_type": "code",
   "execution_count": 40,
   "metadata": {},
   "outputs": [
    {
     "data": {
      "text/plain": [
       "Text(0.5, 1.0, 'Histogram of gray values')"
      ]
     },
     "execution_count": 40,
     "metadata": {},
     "output_type": "execute_result"
    }
   ],
   "source": [
    "ax[1].plot(hist[1][:-1], hist[0], lw=2)\n",
    "ax[1].set_title('Histogram of gray values')"
   ]
  },
  {
   "cell_type": "code",
   "execution_count": 41,
   "metadata": {},
   "outputs": [
    {
     "data": {
      "text/plain": [
       "(-0.5, 511.5, 511.5, -0.5)"
      ]
     },
     "execution_count": 41,
     "metadata": {},
     "output_type": "execute_result"
    }
   ],
   "source": [
    "ax[2].imshow(glob, cmap=plt.cm.gray)\n",
    "ax[2].axis('off')"
   ]
  },
  {
   "cell_type": "code",
   "execution_count": 42,
   "metadata": {},
   "outputs": [
    {
     "data": {
      "text/plain": [
       "Text(0.5, 1.0, 'Histogram of gray values')"
      ]
     },
     "execution_count": 42,
     "metadata": {},
     "output_type": "execute_result"
    }
   ],
   "source": [
    "ax[3].plot(glob_hist[1][:-1], glob_hist[0], lw=2)\n",
    "ax[3].set_title('Histogram of gray values')"
   ]
  },
  {
   "cell_type": "code",
   "execution_count": 43,
   "metadata": {},
   "outputs": [
    {
     "data": {
      "text/plain": [
       "(-0.5, 511.5, 511.5, -0.5)"
      ]
     },
     "execution_count": 43,
     "metadata": {},
     "output_type": "execute_result"
    }
   ],
   "source": [
    "ax[4].imshow(loc, cmap=plt.cm.gray)\n",
    "ax[4].axis('off')"
   ]
  },
  {
   "cell_type": "code",
   "execution_count": 44,
   "metadata": {},
   "outputs": [
    {
     "data": {
      "text/plain": [
       "Text(0.5, 1.0, 'Histogram of gray values')"
      ]
     },
     "execution_count": 44,
     "metadata": {},
     "output_type": "execute_result"
    }
   ],
   "source": [
    "ax[5].plot(loc_hist[1][:-1], loc_hist[0], lw=2)\n",
    "ax[5].set_title('Histogram of gray values')"
   ]
  },
  {
   "cell_type": "code",
   "execution_count": 45,
   "metadata": {},
   "outputs": [
    {
     "data": {
      "text/plain": [
       "<Figure size 432x288 with 0 Axes>"
      ]
     },
     "metadata": {},
     "output_type": "display_data"
    }
   ],
   "source": [
    "plt.tight_layout()"
   ]
  },
  {
   "cell_type": "markdown",
   "metadata": {},
   "source": [
    "####################################################################<br>\n",
    "Another way to maximize the number of gray-levels used for an image is to<br>\n",
    "apply a local auto-leveling, i.e. the gray-value of a pixel is<br>\n",
    "proportionally remapped between local minimum and local maximum.<br>\n",
    "<br>\n",
    "The following example shows how local auto-level enhances the camara man<br>\n",
    "picture."
   ]
  },
  {
   "cell_type": "code",
   "execution_count": 46,
   "metadata": {},
   "outputs": [],
   "source": [
    "from skimage.filters.rank import autolevel"
   ]
  },
  {
   "cell_type": "code",
   "execution_count": 47,
   "metadata": {},
   "outputs": [],
   "source": [
    "noisy_image = img_as_ubyte(data.camera())"
   ]
  },
  {
   "cell_type": "code",
   "execution_count": 48,
   "metadata": {},
   "outputs": [],
   "source": [
    "auto = autolevel(noisy_image.astype(np.uint16), disk(20))"
   ]
  },
  {
   "cell_type": "code",
   "execution_count": 49,
   "metadata": {},
   "outputs": [
    {
     "data": {
      "image/png": "[encoded data removed]",
      "text/plain": [
       "<Figure size 720x360 with 2 Axes>"
      ]
     },
     "metadata": {
      "needs_background": "light"
     },
     "output_type": "display_data"
    }
   ],
   "source": [
    "fig, ax = plt.subplots(ncols=2, figsize=(10, 5), sharex=True, sharey=True)"
   ]
  },
  {
   "cell_type": "code",
   "execution_count": 50,
   "metadata": {},
   "outputs": [
    {
     "data": {
      "text/plain": [
       "Text(0.5, 1.0, 'Original')"
      ]
     },
     "execution_count": 50,
     "metadata": {},
     "output_type": "execute_result"
    }
   ],
   "source": [
    "ax[0].imshow(noisy_image, cmap=plt.cm.gray)\n",
    "ax[0].set_title('Original')"
   ]
  },
  {
   "cell_type": "code",
   "execution_count": 51,
   "metadata": {},
   "outputs": [
    {
     "data": {
      "text/plain": [
       "Text(0.5, 1.0, 'Local autolevel')"
      ]
     },
     "execution_count": 51,
     "metadata": {},
     "output_type": "execute_result"
    }
   ],
   "source": [
    "ax[1].imshow(auto, cmap=plt.cm.gray)\n",
    "ax[1].set_title('Local autolevel')"
   ]
  },
  {
   "cell_type": "code",
   "execution_count": 52,
   "metadata": {},
   "outputs": [],
   "source": [
    "for a in ax:\n",
    "    a.axis('off')"
   ]
  },
  {
   "cell_type": "code",
   "execution_count": 53,
   "metadata": {},
   "outputs": [
    {
     "data": {
      "text/plain": [
       "<Figure size 432x288 with 0 Axes>"
      ]
     },
     "metadata": {},
     "output_type": "display_data"
    }
   ],
   "source": [
    "plt.tight_layout()"
   ]
  },
  {
   "cell_type": "markdown",
   "metadata": {},
   "source": [
    "####################################################################<br>\n",
    "This filter is very sensitive to local outliers. One can<br>\n",
    "moderate this using the percentile version of the auto-level filter<br>\n",
    "which uses given percentiles (one inferior, one superior) in place<br>\n",
    "of local minimum and maximum. The example below illustrates how the<br>\n",
    "percentile parameters influence the local auto-level result."
   ]
  },
  {
   "cell_type": "code",
   "execution_count": 54,
   "metadata": {},
   "outputs": [],
   "source": [
    "from skimage.filters.rank import autolevel_percentile"
   ]
  },
  {
   "cell_type": "code",
   "execution_count": 55,
   "metadata": {},
   "outputs": [],
   "source": [
    "image = data.camera()"
   ]
  },
  {
   "cell_type": "code",
   "execution_count": 56,
   "metadata": {},
   "outputs": [],
   "source": [
    "selem = disk(20)\n",
    "loc_autolevel = autolevel(image, selem=selem)\n",
    "loc_perc_autolevel0 = autolevel_percentile(image, selem=selem, p0=.01, p1=.99)\n",
    "loc_perc_autolevel1 = autolevel_percentile(image, selem=selem, p0=.05, p1=.95)\n",
    "loc_perc_autolevel2 = autolevel_percentile(image, selem=selem, p0=.1, p1=.9)\n",
    "loc_perc_autolevel3 = autolevel_percentile(image, selem=selem, p0=.15, p1=.85)"
   ]
  },
  {
   "cell_type": "code",
   "execution_count": 57,
   "metadata": {},
   "outputs": [
    {
     "data": {
      "image/png": "[encoded data removed]",
      "text/plain": [
       "<Figure size 720x720 with 6 Axes>"
      ]
     },
     "metadata": {
      "needs_background": "light"
     },
     "output_type": "display_data"
    }
   ],
   "source": [
    "fig, axes = plt.subplots(nrows=3, ncols=2, figsize=(10, 10),\n",
    "                         sharex=True, sharey=True)\n",
    "ax = axes.ravel()"
   ]
  },
  {
   "cell_type": "code",
   "execution_count": 58,
   "metadata": {},
   "outputs": [],
   "source": [
    "title_list = ['Original',\n",
    "              'auto_level',\n",
    "              'auto-level 1%',\n",
    "              'auto-level 5%',\n",
    "              'auto-level 10%',\n",
    "              'auto-level 15%']\n",
    "image_list = [image,\n",
    "              loc_autolevel,\n",
    "              loc_perc_autolevel0,\n",
    "              loc_perc_autolevel1,\n",
    "              loc_perc_autolevel2,\n",
    "              loc_perc_autolevel3]"
   ]
  },
  {
   "cell_type": "code",
   "execution_count": 59,
   "metadata": {},
   "outputs": [],
   "source": [
    "for i in range(0, len(image_list)):\n",
    "    ax[i].imshow(image_list[i], cmap=plt.cm.gray, vmin=0, vmax=255)\n",
    "    ax[i].set_title(title_list[i])\n",
    "    ax[i].axis('off')"
   ]
  },
  {
   "cell_type": "code",
   "execution_count": 60,
   "metadata": {},
   "outputs": [
    {
     "data": {
      "text/plain": [
       "<Figure size 432x288 with 0 Axes>"
      ]
     },
     "metadata": {},
     "output_type": "display_data"
    }
   ],
   "source": [
    "plt.tight_layout()"
   ]
  },
  {
   "cell_type": "markdown",
   "metadata": {},
   "source": [
    "####################################################################<br>\n",
    "The morphological contrast enhancement filter replaces the central pixel by<br>\n",
    "the local maximum if the original pixel value is closest to local maximum,<br>\n",
    "otherwise by the minimum local."
   ]
  },
  {
   "cell_type": "code",
   "execution_count": 61,
   "metadata": {},
   "outputs": [],
   "source": [
    "from skimage.filters.rank import enhance_contrast"
   ]
  },
  {
   "cell_type": "code",
   "execution_count": 62,
   "metadata": {},
   "outputs": [],
   "source": [
    "noisy_image = img_as_ubyte(data.camera())"
   ]
  },
  {
   "cell_type": "code",
   "execution_count": 63,
   "metadata": {},
   "outputs": [],
   "source": [
    "enh = enhance_contrast(noisy_image, disk(5))"
   ]
  },
  {
   "cell_type": "code",
   "execution_count": 64,
   "metadata": {},
   "outputs": [
    {
     "data": {
      "image/png": "[encoded data removed]",
      "text/plain": [
       "<Figure size 720x720 with 4 Axes>"
      ]
     },
     "metadata": {
      "needs_background": "light"
     },
     "output_type": "display_data"
    }
   ],
   "source": [
    "fig, axes = plt.subplots(nrows=2, ncols=2, figsize=(10, 10),\n",
    "                         sharex='row', sharey='row')\n",
    "ax = axes.ravel()"
   ]
  },
  {
   "cell_type": "code",
   "execution_count": 65,
   "metadata": {},
   "outputs": [
    {
     "data": {
      "text/plain": [
       "Text(0.5, 1.0, 'Original')"
      ]
     },
     "execution_count": 65,
     "metadata": {},
     "output_type": "execute_result"
    }
   ],
   "source": [
    "ax[0].imshow(noisy_image, cmap=plt.cm.gray)\n",
    "ax[0].set_title('Original')"
   ]
  },
  {
   "cell_type": "code",
   "execution_count": 66,
   "metadata": {},
   "outputs": [
    {
     "data": {
      "text/plain": [
       "Text(0.5, 1.0, 'Local morphological contrast enhancement')"
      ]
     },
     "execution_count": 66,
     "metadata": {},
     "output_type": "execute_result"
    }
   ],
   "source": [
    "ax[1].imshow(enh, cmap=plt.cm.gray)\n",
    "ax[1].set_title('Local morphological contrast enhancement')"
   ]
  },
  {
   "cell_type": "code",
   "execution_count": 67,
   "metadata": {},
   "outputs": [
    {
     "data": {
      "text/plain": [
       "<matplotlib.image.AxesImage at 0x1d20e96a640>"
      ]
     },
     "execution_count": 67,
     "metadata": {},
     "output_type": "execute_result"
    }
   ],
   "source": [
    "ax[2].imshow(noisy_image[100:250, 350:450], cmap=plt.cm.gray)"
   ]
  },
  {
   "cell_type": "code",
   "execution_count": 68,
   "metadata": {},
   "outputs": [
    {
     "data": {
      "text/plain": [
       "<matplotlib.image.AxesImage at 0x1d20e8242e0>"
      ]
     },
     "execution_count": 68,
     "metadata": {},
     "output_type": "execute_result"
    }
   ],
   "source": [
    "ax[3].imshow(enh[100:250, 350:450], cmap=plt.cm.gray)"
   ]
  },
  {
   "cell_type": "code",
   "execution_count": 69,
   "metadata": {},
   "outputs": [],
   "source": [
    "for a in ax:\n",
    "    a.axis('off')"
   ]
  },
  {
   "cell_type": "code",
   "execution_count": 70,
   "metadata": {},
   "outputs": [
    {
     "data": {
      "text/plain": [
       "<Figure size 432x288 with 0 Axes>"
      ]
     },
     "metadata": {},
     "output_type": "display_data"
    }
   ],
   "source": [
    "plt.tight_layout()"
   ]
  },
  {
   "cell_type": "markdown",
   "metadata": {},
   "source": [
    "####################################################################<br>\n",
    "The percentile version of the local morphological contrast enhancement uses<br>\n",
    "percentile *p0* and *p1* instead of the local minimum and maximum."
   ]
  },
  {
   "cell_type": "code",
   "execution_count": 71,
   "metadata": {},
   "outputs": [],
   "source": [
    "from skimage.filters.rank import enhance_contrast_percentile"
   ]
  },
  {
   "cell_type": "code",
   "execution_count": 72,
   "metadata": {},
   "outputs": [],
   "source": [
    "noisy_image = img_as_ubyte(data.camera())"
   ]
  },
  {
   "cell_type": "code",
   "execution_count": 73,
   "metadata": {},
   "outputs": [],
   "source": [
    "penh = enhance_contrast_percentile(noisy_image, disk(5), p0=.1, p1=.9)"
   ]
  },
  {
   "cell_type": "code",
   "execution_count": 74,
   "metadata": {},
   "outputs": [
    {
     "data": {
      "image/png": "[encoded data removed]",
      "text/plain": [
       "<Figure size 720x720 with 4 Axes>"
      ]
     },
     "metadata": {
      "needs_background": "light"
     },
     "output_type": "display_data"
    }
   ],
   "source": [
    "fig, axes = plt.subplots(nrows=2, ncols=2, figsize=(10, 10),\n",
    "                         sharex='row', sharey='row')\n",
    "ax = axes.ravel()"
   ]
  },
  {
   "cell_type": "code",
   "execution_count": 75,
   "metadata": {},
   "outputs": [
    {
     "data": {
      "text/plain": [
       "Text(0.5, 1.0, 'Original')"
      ]
     },
     "execution_count": 75,
     "metadata": {},
     "output_type": "execute_result"
    }
   ],
   "source": [
    "ax[0].imshow(noisy_image, cmap=plt.cm.gray)\n",
    "ax[0].set_title('Original')"
   ]
  },
  {
   "cell_type": "code",
   "execution_count": 76,
   "metadata": {},
   "outputs": [
    {
     "data": {
      "text/plain": [
       "Text(0.5, 1.0, 'Local percentile morphological\\n contrast enhancement')"
      ]
     },
     "execution_count": 76,
     "metadata": {},
     "output_type": "execute_result"
    }
   ],
   "source": [
    "ax[1].imshow(penh, cmap=plt.cm.gray)\n",
    "ax[1].set_title('Local percentile morphological\\n contrast enhancement')"
   ]
  },
  {
   "cell_type": "code",
   "execution_count": 77,
   "metadata": {},
   "outputs": [
    {
     "data": {
      "text/plain": [
       "<matplotlib.image.AxesImage at 0x1d20e1d9e80>"
      ]
     },
     "execution_count": 77,
     "metadata": {},
     "output_type": "execute_result"
    }
   ],
   "source": [
    "ax[2].imshow(noisy_image[100:250, 350:450], cmap=plt.cm.gray)"
   ]
  },
  {
   "cell_type": "code",
   "execution_count": 78,
   "metadata": {},
   "outputs": [
    {
     "data": {
      "text/plain": [
       "<matplotlib.image.AxesImage at 0x1d20e44cfa0>"
      ]
     },
     "execution_count": 78,
     "metadata": {},
     "output_type": "execute_result"
    }
   ],
   "source": [
    "ax[3].imshow(penh[100:250, 350:450], cmap=plt.cm.gray)"
   ]
  },
  {
   "cell_type": "code",
   "execution_count": 79,
   "metadata": {},
   "outputs": [],
   "source": [
    "for a in ax:\n",
    "    a.axis('off')"
   ]
  },
  {
   "cell_type": "code",
   "execution_count": 80,
   "metadata": {},
   "outputs": [
    {
     "data": {
      "text/plain": [
       "<Figure size 432x288 with 0 Axes>"
      ]
     },
     "metadata": {},
     "output_type": "display_data"
    }
   ],
   "source": [
    "plt.tight_layout()"
   ]
  },
  {
   "cell_type": "markdown",
   "metadata": {},
   "source": [
    "####################################################################<br>\n",
    "<br>\n",
    "Image threshold<br>\n",
    "===============<br>\n",
    "<br>\n",
    "The Otsu threshold method [5]_ can be applied locally using the local gray-\\<br>\n",
    "level distribution. In the example below, for each pixel, an \"optimal\"<br>\n",
    "threshold is determined by maximizing the variance between two classes of<br>\n",
    "pixels of the local neighborhood defined by a structuring element.<br>\n",
    "<br>\n",
    "These algorithms can be used on both 2D and 3D images.<br>\n",
    "<br>\n",
    "The example compares local thresholding with global thresholding, which is<br>\n",
    "provided by :func:`skimage.filters.threshold_otsu`. Note that the former is<br>\n",
    "much slower than the latter.<br>\n",
    "<br>\n",
    ".. [5] https://en.wikipedia.org/wiki/Otsu's_method"
   ]
  },
  {
   "cell_type": "code",
   "execution_count": 81,
   "metadata": {},
   "outputs": [],
   "source": [
    "from skimage.filters.rank import otsu\n",
    "from skimage.filters import threshold_otsu\n",
    "from skimage import exposure"
   ]
  },
  {
   "cell_type": "code",
   "execution_count": 82,
   "metadata": {},
   "outputs": [],
   "source": [
    "p8 = data.page()"
   ]
  },
  {
   "cell_type": "code",
   "execution_count": 83,
   "metadata": {},
   "outputs": [],
   "source": [
    "radius = 10\n",
    "selem = disk(radius)"
   ]
  },
  {
   "cell_type": "markdown",
   "metadata": {},
   "source": [
    "t_loc_otsu is an image"
   ]
  },
  {
   "cell_type": "code",
   "execution_count": 84,
   "metadata": {},
   "outputs": [],
   "source": [
    "t_loc_otsu = otsu(p8, selem)\n",
    "loc_otsu = p8 >= t_loc_otsu"
   ]
  },
  {
   "cell_type": "markdown",
   "metadata": {},
   "source": [
    "t_glob_otsu is a scalar"
   ]
  },
  {
   "cell_type": "code",
   "execution_count": 85,
   "metadata": {},
   "outputs": [],
   "source": [
    "t_glob_otsu = threshold_otsu(p8)\n",
    "glob_otsu = p8 >= t_glob_otsu"
   ]
  },
  {
   "cell_type": "code",
   "execution_count": 86,
   "metadata": {},
   "outputs": [
    {
     "data": {
      "image/png": "[encoded data removed]",
      "text/plain": [
       "<Figure size 864x864 with 4 Axes>"
      ]
     },
     "metadata": {
      "needs_background": "light"
     },
     "output_type": "display_data"
    }
   ],
   "source": [
    "fig, axes = plt.subplots(nrows=2, ncols=2, figsize=(12, 12),\n",
    "                         sharex=True, sharey=True)\n",
    "ax = axes.ravel()"
   ]
  },
  {
   "cell_type": "code",
   "execution_count": 87,
   "metadata": {},
   "outputs": [
    {
     "data": {
      "text/plain": [
       "Text(0.5, 1.0, 'Original')"
      ]
     },
     "execution_count": 87,
     "metadata": {},
     "output_type": "execute_result"
    }
   ],
   "source": [
    "fig.colorbar(ax[0].imshow(p8, cmap=plt.cm.gray), ax=ax[0])\n",
    "ax[0].set_title('Original')"
   ]
  },
  {
   "cell_type": "code",
   "execution_count": 88,
   "metadata": {},
   "outputs": [
    {
     "data": {
      "text/plain": [
       "Text(0.5, 1.0, 'Local Otsu ($r=10$)')"
      ]
     },
     "execution_count": 88,
     "metadata": {},
     "output_type": "execute_result"
    }
   ],
   "source": [
    "fig.colorbar(ax[1].imshow(t_loc_otsu, cmap=plt.cm.gray), ax=ax[1])\n",
    "ax[1].set_title('Local Otsu ($r=%d$)' % radius)"
   ]
  },
  {
   "cell_type": "code",
   "execution_count": 89,
   "metadata": {},
   "outputs": [
    {
     "data": {
      "text/plain": [
       "Text(0.5, 1.0, 'Original >= local Otsu')"
      ]
     },
     "execution_count": 89,
     "metadata": {},
     "output_type": "execute_result"
    }
   ],
   "source": [
    "ax[2].imshow(p8 >= t_loc_otsu, cmap=plt.cm.gray)\n",
    "ax[2].set_title('Original >= local Otsu' % t_glob_otsu)"
   ]
  },
  {
   "cell_type": "code",
   "execution_count": 90,
   "metadata": {},
   "outputs": [
    {
     "data": {
      "text/plain": [
       "Text(0.5, 1.0, 'Global Otsu ($t=157$)')"
      ]
     },
     "execution_count": 90,
     "metadata": {},
     "output_type": "execute_result"
    }
   ],
   "source": [
    "ax[3].imshow(glob_otsu, cmap=plt.cm.gray)\n",
    "ax[3].set_title('Global Otsu ($t=%d$)' % t_glob_otsu)"
   ]
  },
  {
   "cell_type": "code",
   "execution_count": 91,
   "metadata": {},
   "outputs": [],
   "source": [
    "for a in ax:\n",
    "    a.axis('off')"
   ]
  },
  {
   "cell_type": "code",
   "execution_count": 92,
   "metadata": {},
   "outputs": [
    {
     "data": {
      "text/plain": [
       "<Figure size 432x288 with 0 Axes>"
      ]
     },
     "metadata": {},
     "output_type": "display_data"
    }
   ],
   "source": [
    "plt.tight_layout()"
   ]
  },
  {
   "cell_type": "markdown",
   "metadata": {},
   "source": [
    "####################################################################<br>\n",
    "The example below performs the same comparison, using a 3D image this time."
   ]
  },
  {
   "cell_type": "code",
   "execution_count": 93,
   "metadata": {},
   "outputs": [
    {
     "ename": "ModuleNotFoundError",
     "evalue": "The requested file is part of the scikit-image distribution, but requires the installation of an optional dependency, pooch. To install pooch, use your preferred python package manager. Follow installation instruction found at https://scikit-image.org/docs/stable/install.html",
     "output_type": "error",
     "traceback": [
      "\u001b[1;31m---------------------------------------------------------------------------\u001b[0m",
      "\u001b[1;31mModuleNotFoundError\u001b[0m                       Traceback (most recent call last)",
      "\u001b[1;32m<ipython-input-93-75ad1c50e639>\u001b[0m in \u001b[0;36m<module>\u001b[1;34m\u001b[0m\n\u001b[1;32m----> 1\u001b[1;33m \u001b[0mbrain\u001b[0m \u001b[1;33m=\u001b[0m \u001b[0mexposure\u001b[0m\u001b[1;33m.\u001b[0m\u001b[0mrescale_intensity\u001b[0m\u001b[1;33m(\u001b[0m\u001b[0mdata\u001b[0m\u001b[1;33m.\u001b[0m\u001b[0mbrain\u001b[0m\u001b[1;33m(\u001b[0m\u001b[1;33m)\u001b[0m\u001b[1;33m.\u001b[0m\u001b[0mastype\u001b[0m\u001b[1;33m(\u001b[0m\u001b[0mfloat\u001b[0m\u001b[1;33m)\u001b[0m\u001b[1;33m)\u001b[0m\u001b[1;33m\u001b[0m\u001b[1;33m\u001b[0m\u001b[0m\n\u001b[0m",
      "\u001b[1;32m~\\anaconda3\\lib\\site-packages\\skimage\\data\\__init__.py\u001b[0m in \u001b[0;36mbrain\u001b[1;34m()\u001b[0m\n\u001b[0;32m   1189\u001b[0m \u001b[1;33m\u001b[0m\u001b[0m\n\u001b[0;32m   1190\u001b[0m     \"\"\"\n\u001b[1;32m-> 1191\u001b[1;33m     \u001b[1;32mreturn\u001b[0m \u001b[0m_load\u001b[0m\u001b[1;33m(\u001b[0m\u001b[1;34m\"data/brain.tiff\"\u001b[0m\u001b[1;33m)\u001b[0m\u001b[1;33m\u001b[0m\u001b[1;33m\u001b[0m\u001b[0m\n\u001b[0m\u001b[0;32m   1192\u001b[0m \u001b[1;33m\u001b[0m\u001b[0m\n\u001b[0;32m   1193\u001b[0m \u001b[1;33m\u001b[0m\u001b[0m\n",
      "\u001b[1;32m~\\anaconda3\\lib\\site-packages\\skimage\\data\\__init__.py\u001b[0m in \u001b[0;36m_load\u001b[1;34m(f, as_gray)\u001b[0m\n\u001b[0;32m    356\u001b[0m     \u001b[1;31m# we lazy import it here\u001b[0m\u001b[1;33m\u001b[0m\u001b[1;33m\u001b[0m\u001b[1;33m\u001b[0m\u001b[0m\n\u001b[0;32m    357\u001b[0m     \u001b[1;32mfrom\u001b[0m \u001b[1;33m.\u001b[0m\u001b[1;33m.\u001b[0m\u001b[0mio\u001b[0m \u001b[1;32mimport\u001b[0m \u001b[0mimread\u001b[0m\u001b[1;33m\u001b[0m\u001b[1;33m\u001b[0m\u001b[0m\n\u001b[1;32m--> 358\u001b[1;33m     \u001b[1;32mreturn\u001b[0m \u001b[0mimread\u001b[0m\u001b[1;33m(\u001b[0m\u001b[0m_fetch\u001b[0m\u001b[1;33m(\u001b[0m\u001b[0mf\u001b[0m\u001b[1;33m)\u001b[0m\u001b[1;33m,\u001b[0m \u001b[0mas_gray\u001b[0m\u001b[1;33m=\u001b[0m\u001b[0mas_gray\u001b[0m\u001b[1;33m)\u001b[0m\u001b[1;33m\u001b[0m\u001b[1;33m\u001b[0m\u001b[0m\n\u001b[0m\u001b[0;32m    359\u001b[0m \u001b[1;33m\u001b[0m\u001b[0m\n\u001b[0;32m    360\u001b[0m \u001b[1;33m\u001b[0m\u001b[0m\n",
      "\u001b[1;32m~\\anaconda3\\lib\\site-packages\\skimage\\data\\__init__.py\u001b[0m in \u001b[0;36m_fetch\u001b[1;34m(data_filename)\u001b[0m\n\u001b[0;32m    226\u001b[0m     \u001b[1;31m# Pooch not found.\u001b[0m\u001b[1;33m\u001b[0m\u001b[1;33m\u001b[0m\u001b[1;33m\u001b[0m\u001b[0m\n\u001b[0;32m    227\u001b[0m     \u001b[1;32mif\u001b[0m \u001b[0mimage_fetcher\u001b[0m \u001b[1;32mis\u001b[0m \u001b[1;32mNone\u001b[0m\u001b[1;33m:\u001b[0m\u001b[1;33m\u001b[0m\u001b[1;33m\u001b[0m\u001b[0m\n\u001b[1;32m--> 228\u001b[1;33m         raise ModuleNotFoundError(\n\u001b[0m\u001b[0;32m    229\u001b[0m             \u001b[1;34m\"The requested file is part of the scikit-image distribution, \"\u001b[0m\u001b[1;33m\u001b[0m\u001b[1;33m\u001b[0m\u001b[0m\n\u001b[0;32m    230\u001b[0m             \u001b[1;34m\"but requires the installation of an optional dependency, pooch. \"\u001b[0m\u001b[1;33m\u001b[0m\u001b[1;33m\u001b[0m\u001b[0m\n",
      "\u001b[1;31mModuleNotFoundError\u001b[0m: The requested file is part of the scikit-image distribution, but requires the installation of an optional dependency, pooch. To install pooch, use your preferred python package manager. Follow installation instruction found at https://scikit-image.org/docs/stable/install.html"
     ]
    }
   ],
   "source": [
    "brain = exposure.rescale_intensity(data.brain().astype(float))"
   ]
  },
  {
   "cell_type": "code",
   "execution_count": null,
   "metadata": {},
   "outputs": [],
   "source": [
    "radius = 5\n",
    "neighborhood = ball(radius)"
   ]
  },
  {
   "cell_type": "markdown",
   "metadata": {},
   "source": [
    "t_loc_otsu is an image"
   ]
  },
  {
   "cell_type": "code",
   "execution_count": null,
   "metadata": {},
   "outputs": [],
   "source": [
    "t_loc_otsu = rank.otsu(brain, neighborhood)\n",
    "loc_otsu = brain >= t_loc_otsu"
   ]
  },
  {
   "cell_type": "markdown",
   "metadata": {},
   "source": [
    "t_glob_otsu is a scalar"
   ]
  },
  {
   "cell_type": "code",
   "execution_count": null,
   "metadata": {},
   "outputs": [],
   "source": [
    "t_glob_otsu = threshold_otsu(brain)\n",
    "glob_otsu = brain >= t_glob_otsu"
   ]
  },
  {
   "cell_type": "code",
   "execution_count": null,
   "metadata": {},
   "outputs": [],
   "source": [
    "fig, axes = plt.subplots(nrows=2, ncols=2, figsize=(12, 12),\n",
    "                         sharex=True, sharey=True)\n",
    "ax = axes.ravel()"
   ]
  },
  {
   "cell_type": "code",
   "execution_count": null,
   "metadata": {},
   "outputs": [],
   "source": [
    "slice_index = 3"
   ]
  },
  {
   "cell_type": "code",
   "execution_count": null,
   "metadata": {},
   "outputs": [],
   "source": [
    "fig.colorbar(ax[0].imshow(brain[slice_index], cmap=plt.cm.gray), ax=ax[0])\n",
    "ax[0].set_title('Original')"
   ]
  },
  {
   "cell_type": "code",
   "execution_count": null,
   "metadata": {},
   "outputs": [],
   "source": [
    "fig.colorbar(ax[1].imshow(t_loc_otsu[slice_index], cmap=plt.cm.gray), ax=ax[1])\n",
    "ax[1].set_title('Local Otsu ($r=%d$)' % radius)"
   ]
  },
  {
   "cell_type": "code",
   "execution_count": null,
   "metadata": {},
   "outputs": [],
   "source": [
    "ax[2].imshow(brain[slice_index] >= t_loc_otsu[slice_index], cmap=plt.cm.gray)\n",
    "ax[2].set_title('Original >= local Otsu' % t_glob_otsu)"
   ]
  },
  {
   "cell_type": "code",
   "execution_count": null,
   "metadata": {},
   "outputs": [],
   "source": [
    "ax[3].imshow(glob_otsu[slice_index], cmap=plt.cm.gray)\n",
    "ax[3].set_title('Global Otsu ($t=%d$)' % t_glob_otsu)"
   ]
  },
  {
   "cell_type": "code",
   "execution_count": null,
   "metadata": {},
   "outputs": [],
   "source": [
    "for a in ax:\n",
    "    a.axis('off')"
   ]
  },
  {
   "cell_type": "code",
   "execution_count": null,
   "metadata": {},
   "outputs": [],
   "source": [
    "fig.tight_layout()"
   ]
  },
  {
   "cell_type": "markdown",
   "metadata": {},
   "source": [
    "####################################################################<br>\n",
    "The following example shows how local Otsu thresholding handles a global<br>\n",
    "level shift applied to a synthetic image."
   ]
  },
  {
   "cell_type": "code",
   "execution_count": null,
   "metadata": {},
   "outputs": [],
   "source": [
    "n = 100\n",
    "theta = np.linspace(0, 10 * np.pi, n)\n",
    "x = np.sin(theta)\n",
    "m = (np.tile(x, (n, 1)) * np.linspace(0.1, 1, n) * 128 + 128).astype(np.uint8)"
   ]
  },
  {
   "cell_type": "code",
   "execution_count": null,
   "metadata": {},
   "outputs": [],
   "source": [
    "radius = 10\n",
    "t = rank.otsu(m, disk(radius))"
   ]
  },
  {
   "cell_type": "code",
   "execution_count": null,
   "metadata": {},
   "outputs": [],
   "source": [
    "fig, ax = plt.subplots(ncols=2, figsize=(10, 5),\n",
    "                       sharex=True, sharey=True)"
   ]
  },
  {
   "cell_type": "code",
   "execution_count": null,
   "metadata": {},
   "outputs": [],
   "source": [
    "ax[0].imshow(m, cmap=plt.cm.gray)\n",
    "ax[0].set_title('Original')"
   ]
  },
  {
   "cell_type": "code",
   "execution_count": null,
   "metadata": {},
   "outputs": [],
   "source": [
    "ax[1].imshow(m >= t, cmap=plt.cm.gray)\n",
    "ax[1].set_title('Local Otsu ($r=%d$)' % radius)"
   ]
  },
  {
   "cell_type": "code",
   "execution_count": null,
   "metadata": {},
   "outputs": [],
   "source": [
    "for a in ax:\n",
    "    a.axis('off')"
   ]
  },
  {
   "cell_type": "code",
   "execution_count": null,
   "metadata": {},
   "outputs": [],
   "source": [
    "plt.tight_layout()"
   ]
  },
  {
   "cell_type": "markdown",
   "metadata": {},
   "source": [
    "####################################################################<br>\n",
    "Image morphology<br>\n",
    "================<br>\n",
    "<br>\n",
    "Local maximum and local minimum are the base operators for gray-level<br>\n",
    "morphology.<br>\n",
    "<br>\n",
    "Here is an example of the classical morphological gray-level filters:<br>\n",
    "opening, closing and morphological gradient."
   ]
  },
  {
   "cell_type": "code",
   "execution_count": null,
   "metadata": {},
   "outputs": [],
   "source": [
    "from skimage.filters.rank import maximum, minimum, gradient"
   ]
  },
  {
   "cell_type": "code",
   "execution_count": null,
   "metadata": {},
   "outputs": [],
   "source": [
    "noisy_image = img_as_ubyte(data.camera())"
   ]
  },
  {
   "cell_type": "code",
   "execution_count": null,
   "metadata": {},
   "outputs": [],
   "source": [
    "closing = maximum(minimum(noisy_image, disk(5)), disk(5))\n",
    "opening = minimum(maximum(noisy_image, disk(5)), disk(5))\n",
    "grad = gradient(noisy_image, disk(5))"
   ]
  },
  {
   "cell_type": "markdown",
   "metadata": {},
   "source": [
    "display results"
   ]
  },
  {
   "cell_type": "code",
   "execution_count": null,
   "metadata": {},
   "outputs": [],
   "source": [
    "fig, axes = plt.subplots(nrows=2, ncols=2, figsize=(10, 10),\n",
    "                         sharex=True, sharey=True)\n",
    "ax = axes.ravel()"
   ]
  },
  {
   "cell_type": "code",
   "execution_count": null,
   "metadata": {},
   "outputs": [],
   "source": [
    "ax[0].imshow(noisy_image, cmap=plt.cm.gray)\n",
    "ax[0].set_title('Original')"
   ]
  },
  {
   "cell_type": "code",
   "execution_count": null,
   "metadata": {},
   "outputs": [],
   "source": [
    "ax[1].imshow(closing, cmap=plt.cm.gray)\n",
    "ax[1].set_title('Gray-level closing')"
   ]
  },
  {
   "cell_type": "code",
   "execution_count": null,
   "metadata": {},
   "outputs": [],
   "source": [
    "ax[2].imshow(opening, cmap=plt.cm.gray)\n",
    "ax[2].set_title('Gray-level opening')"
   ]
  },
  {
   "cell_type": "code",
   "execution_count": null,
   "metadata": {},
   "outputs": [],
   "source": [
    "ax[3].imshow(grad, cmap=plt.cm.gray)\n",
    "ax[3].set_title('Morphological gradient')"
   ]
  },
  {
   "cell_type": "code",
   "execution_count": null,
   "metadata": {},
   "outputs": [],
   "source": [
    "for a in ax:\n",
    "    a.axis('off')"
   ]
  },
  {
   "cell_type": "code",
   "execution_count": null,
   "metadata": {},
   "outputs": [],
   "source": [
    "plt.tight_layout()"
   ]
  },
  {
   "cell_type": "markdown",
   "metadata": {},
   "source": [
    "####################################################################<br>\n",
    "<br>\n",
    "Feature extraction<br>\n",
    "===================<br>\n",
    "<br>\n",
    "Local histograms can be exploited to compute local entropy, which is<br>\n",
    "related to the local image complexity. Entropy is computed using base 2<br>\n",
    "logarithm, i.e., the filter returns the minimum number of bits needed to<br>\n",
    "encode local gray-level distribution.<br>\n",
    "<br>\n",
    ":func:`skimage.filters.rank.entropy` returns the local entropy on a given<br>\n",
    "structuring element. The following example applies this filter<br>\n",
    "on 8- and 16-bit images.<br>\n",
    "<br>\n",
    ".. note::<br>\n",
    "<br>\n",
    "    To better use the available image bit, the function returns 10x entropy<br>\n",
    "    for 8-bit images and 1000x entropy for 16-bit images."
   ]
  },
  {
   "cell_type": "code",
   "execution_count": null,
   "metadata": {},
   "outputs": [],
   "source": [
    "from skimage import data\n",
    "from skimage.filters.rank import entropy\n",
    "from skimage.morphology import disk\n",
    "import numpy as np\n",
    "import matplotlib.pyplot as plt"
   ]
  },
  {
   "cell_type": "code",
   "execution_count": null,
   "metadata": {},
   "outputs": [],
   "source": [
    "image = data.camera()"
   ]
  },
  {
   "cell_type": "code",
   "execution_count": null,
   "metadata": {},
   "outputs": [],
   "source": [
    "fig, ax = plt.subplots(ncols=2, figsize=(12, 6), sharex=True, sharey=True)"
   ]
  },
  {
   "cell_type": "code",
   "execution_count": null,
   "metadata": {},
   "outputs": [],
   "source": [
    "fig.colorbar(ax[0].imshow(image, cmap=plt.cm.gray), ax=ax[0])\n",
    "ax[0].set_title('Image')"
   ]
  },
  {
   "cell_type": "code",
   "execution_count": null,
   "metadata": {},
   "outputs": [],
   "source": [
    "fig.colorbar(ax[1].imshow(entropy(image, disk(5)), cmap=plt.cm.gray), ax=ax[1])\n",
    "ax[1].set_title('Entropy')"
   ]
  },
  {
   "cell_type": "code",
   "execution_count": null,
   "metadata": {},
   "outputs": [],
   "source": [
    "for a in ax:\n",
    "    a.axis('off')"
   ]
  },
  {
   "cell_type": "code",
   "execution_count": null,
   "metadata": {},
   "outputs": [],
   "source": [
    "plt.tight_layout()"
   ]
  },
  {
   "cell_type": "markdown",
   "metadata": {},
   "source": [
    "####################################################################<br>\n",
    "<br>\n",
    "Implementation<br>\n",
    "==============<br>\n",
    "<br>\n",
    "The central part of the `skimage.filters.rank` filters is built on a sliding<br>\n",
    "window that updates the local gray-level histogram. This approach limits the<br>\n",
    "algorithm complexity to O(n) where n is the number of image pixels. The<br>\n",
    "complexity is also limited with respect to the structuring element size.<br>\n",
    "<br>\n",
    "In the following, we compare the performance of different implementations<br>\n",
    "available in `skimage`."
   ]
  },
  {
   "cell_type": "code",
   "execution_count": null,
   "metadata": {},
   "outputs": [],
   "source": [
    "from time import time"
   ]
  },
  {
   "cell_type": "code",
   "execution_count": null,
   "metadata": {},
   "outputs": [],
   "source": [
    "from scipy.ndimage import percentile_filter\n",
    "from skimage.morphology import dilation\n",
    "from skimage.filters.rank import median, maximum"
   ]
  },
  {
   "cell_type": "code",
   "execution_count": null,
   "metadata": {},
   "outputs": [],
   "source": [
    "def exec_and_timeit(func):\n",
    "    \"\"\"Decorator that returns both function results and execution time.\"\"\"\n",
    "    def wrapper(*arg):\n",
    "        t1 = time()\n",
    "        res = func(*arg)\n",
    "        t2 = time()\n",
    "        ms = (t2 - t1) * 1000.0\n",
    "        return (res, ms)\n",
    "    return wrapper"
   ]
  },
  {
   "cell_type": "code",
   "execution_count": null,
   "metadata": {},
   "outputs": [],
   "source": [
    "@exec_and_timeit\n",
    "def cr_med(image, selem):\n",
    "    return median(image=image, selem=selem)"
   ]
  },
  {
   "cell_type": "code",
   "execution_count": null,
   "metadata": {},
   "outputs": [],
   "source": [
    "@exec_and_timeit\n",
    "def cr_max(image, selem):\n",
    "    return maximum(image=image, selem=selem)"
   ]
  },
  {
   "cell_type": "code",
   "execution_count": null,
   "metadata": {},
   "outputs": [],
   "source": [
    "@exec_and_timeit\n",
    "def cm_dil(image, selem):\n",
    "    return dilation(image=image, selem=selem)"
   ]
  },
  {
   "cell_type": "code",
   "execution_count": null,
   "metadata": {},
   "outputs": [],
   "source": [
    "@exec_and_timeit\n",
    "def ndi_med(image, n):\n",
    "    return percentile_filter(image, 50, size=n * 2 - 1)"
   ]
  },
  {
   "cell_type": "markdown",
   "metadata": {},
   "source": [
    "####################################################################<br>\n",
    " Comparison between<br>\n",
    "<br>\n",
    "* `skimage.filters.rank.maximum`<br>\n",
    "* `skimage.morphology.dilation`<br>\n",
    "<br>\n",
    "on increasing structuring element size:"
   ]
  },
  {
   "cell_type": "code",
   "execution_count": null,
   "metadata": {},
   "outputs": [],
   "source": [
    "a = data.camera()"
   ]
  },
  {
   "cell_type": "code",
   "execution_count": null,
   "metadata": {},
   "outputs": [],
   "source": [
    "rec = []\n",
    "e_range = range(1, 20, 2)\n",
    "for r in e_range:\n",
    "    elem = disk(r + 1)\n",
    "    rc, ms_rc = cr_max(a, elem)\n",
    "    rcm, ms_rcm = cm_dil(a, elem)\n",
    "    rec.append((ms_rc, ms_rcm))"
   ]
  },
  {
   "cell_type": "code",
   "execution_count": null,
   "metadata": {},
   "outputs": [],
   "source": [
    "rec = np.asarray(rec)"
   ]
  },
  {
   "cell_type": "code",
   "execution_count": null,
   "metadata": {},
   "outputs": [],
   "source": [
    "fig, ax = plt.subplots(figsize=(10, 10), sharey=True)\n",
    "ax.set_title('Performance with respect to element size')\n",
    "ax.set_ylabel('Time (ms)')\n",
    "ax.set_xlabel('Element radius')\n",
    "ax.plot(e_range, rec)\n",
    "ax.legend(['filters.rank.maximum', 'morphology.dilate'])"
   ]
  },
  {
   "cell_type": "code",
   "execution_count": null,
   "metadata": {},
   "outputs": [],
   "source": [
    "plt.tight_layout()"
   ]
  },
  {
   "cell_type": "markdown",
   "metadata": {},
   "source": [
    "####################################################################<br>\n",
    "and increasing image size:"
   ]
  },
  {
   "cell_type": "code",
   "execution_count": null,
   "metadata": {},
   "outputs": [],
   "source": [
    "r = 9\n",
    "elem = disk(r + 1)"
   ]
  },
  {
   "cell_type": "code",
   "execution_count": null,
   "metadata": {},
   "outputs": [],
   "source": [
    "rec = []\n",
    "s_range = range(100, 1000, 100)\n",
    "for s in s_range:\n",
    "    a = (np.random.random((s, s)) * 256).astype(np.uint8)\n",
    "    (rc, ms_rc) = cr_max(a, elem)\n",
    "    (rcm, ms_rcm) = cm_dil(a, elem)\n",
    "    rec.append((ms_rc, ms_rcm))"
   ]
  },
  {
   "cell_type": "code",
   "execution_count": null,
   "metadata": {},
   "outputs": [],
   "source": [
    "rec = np.asarray(rec)"
   ]
  },
  {
   "cell_type": "code",
   "execution_count": null,
   "metadata": {},
   "outputs": [],
   "source": [
    "fig, ax = plt.subplots()\n",
    "ax.set_title('Performance with respect to image size')\n",
    "ax.set_ylabel('Time (ms)')\n",
    "ax.set_xlabel('Image size')\n",
    "ax.plot(s_range, rec)\n",
    "ax.legend(['filters.rank.maximum', 'morphology.dilate'])"
   ]
  },
  {
   "cell_type": "code",
   "execution_count": null,
   "metadata": {},
   "outputs": [],
   "source": [
    "plt.tight_layout()"
   ]
  },
  {
   "cell_type": "markdown",
   "metadata": {},
   "source": [
    "####################################################################<br>\n",
    "Comparison between:<br>\n",
    "<br>\n",
    "* `skimage.filters.rank.median`<br>\n",
    "* `scipy.ndimage.percentile_filter`<br>\n",
    "<br>\n",
    "on increasing structuring element size:"
   ]
  },
  {
   "cell_type": "code",
   "execution_count": null,
   "metadata": {},
   "outputs": [],
   "source": [
    "a = data.camera()"
   ]
  },
  {
   "cell_type": "code",
   "execution_count": null,
   "metadata": {},
   "outputs": [],
   "source": [
    "rec = []\n",
    "e_range = range(2, 30, 4)\n",
    "for r in e_range:\n",
    "    elem = disk(r + 1)\n",
    "    rc, ms_rc = cr_med(a, elem)\n",
    "    rndi, ms_ndi = ndi_med(a, r)\n",
    "    rec.append((ms_rc, ms_ndi))"
   ]
  },
  {
   "cell_type": "code",
   "execution_count": null,
   "metadata": {},
   "outputs": [],
   "source": [
    "rec = np.asarray(rec)"
   ]
  },
  {
   "cell_type": "code",
   "execution_count": null,
   "metadata": {},
   "outputs": [],
   "source": [
    "fig, ax = plt.subplots()\n",
    "ax.set_title('Performance with respect to element size')\n",
    "ax.plot(e_range, rec)\n",
    "ax.legend(['filters.rank.median', 'scipy.ndimage.percentile'])\n",
    "ax.set_ylabel('Time (ms)')\n",
    "ax.set_xlabel('Element radius')"
   ]
  },
  {
   "cell_type": "markdown",
   "metadata": {},
   "source": [
    "####################################################################<br>\n",
    "Comparison of outcome of the two methods:"
   ]
  },
  {
   "cell_type": "code",
   "execution_count": null,
   "metadata": {},
   "outputs": [],
   "source": [
    "fig, ax = plt.subplots(ncols=2, figsize=(10, 5), sharex=True, sharey=True)"
   ]
  },
  {
   "cell_type": "code",
   "execution_count": null,
   "metadata": {},
   "outputs": [],
   "source": [
    "ax[0].set_title('filters.rank.median')\n",
    "ax[0].imshow(rc, cmap=plt.cm.gray)"
   ]
  },
  {
   "cell_type": "code",
   "execution_count": null,
   "metadata": {},
   "outputs": [],
   "source": [
    "ax[1].set_title('scipy.ndimage.percentile')\n",
    "ax[1].imshow(rndi, cmap=plt.cm.gray)"
   ]
  },
  {
   "cell_type": "code",
   "execution_count": null,
   "metadata": {},
   "outputs": [],
   "source": [
    "for a in ax:\n",
    "    a.axis('off')"
   ]
  },
  {
   "cell_type": "code",
   "execution_count": null,
   "metadata": {},
   "outputs": [],
   "source": [
    "plt.tight_layout()"
   ]
  },
  {
   "cell_type": "markdown",
   "metadata": {},
   "source": [
    "####################################################################<br>\n",
    "on increasing image size:"
   ]
  },
  {
   "cell_type": "code",
   "execution_count": null,
   "metadata": {},
   "outputs": [],
   "source": [
    "r = 9\n",
    "elem = disk(r + 1)"
   ]
  },
  {
   "cell_type": "code",
   "execution_count": null,
   "metadata": {},
   "outputs": [],
   "source": [
    "rec = []\n",
    "s_range = [100, 200, 500, 1000]\n",
    "for s in s_range:\n",
    "    a = (np.random.random((s, s)) * 256).astype(np.uint8)\n",
    "    (rc, ms_rc) = cr_med(a, elem)\n",
    "    rndi, ms_ndi = ndi_med(a, r)\n",
    "    rec.append((ms_rc, ms_ndi))"
   ]
  },
  {
   "cell_type": "code",
   "execution_count": null,
   "metadata": {},
   "outputs": [],
   "source": [
    "rec = np.asarray(rec)"
   ]
  },
  {
   "cell_type": "code",
   "execution_count": null,
   "metadata": {},
   "outputs": [],
   "source": [
    "fig, ax = plt.subplots()\n",
    "ax.set_title('Performance with respect to image size')\n",
    "ax.plot(s_range, rec)\n",
    "ax.legend(['filters.rank.median', 'scipy.ndimage.percentile'])\n",
    "ax.set_ylabel('Time (ms)')\n",
    "ax.set_xlabel('Image size')"
   ]
  },
  {
   "cell_type": "code",
   "execution_count": null,
   "metadata": {},
   "outputs": [],
   "source": [
    "plt.tight_layout()"
   ]
  },
  {
   "cell_type": "code",
   "execution_count": null,
   "metadata": {},
   "outputs": [],
   "source": [
    "plt.show()"
   ]
  }
 ],
 "metadata": {
  "kernelspec": {
   "display_name": "Python 3",
   "language": "python",
   "name": "python3"
  },
  "language_info": {
   "codemirror_mode": {
    "name": "ipython",
    "version": 3
   },
   "file_extension": ".py",
   "mimetype": "text/x-python",
   "name": "python",
   "nbconvert_exporter": "python",
   "pygments_lexer": "ipython3",
   "version": "3.8.3"
  }
 },
 "nbformat": 4,
 "nbformat_minor": 2
}
