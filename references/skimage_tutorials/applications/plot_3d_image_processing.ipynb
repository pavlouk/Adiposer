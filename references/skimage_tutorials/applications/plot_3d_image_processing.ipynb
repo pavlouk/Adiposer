{
 "cells": [
  {
   "cell_type": "markdown",
   "metadata": {},
   "source": [
    "\n",
    "<br>\n",
    "============================<br>\n",
    "Explore 3D images (of cells)<br>\n",
    "============================<br>\n",
    "This tutorial is an introduction to three-dimensional image processing. Images<br>\n",
    "are represented as `numpy` arrays. A single-channel, or grayscale, image is a<br>\n",
    "2D matrix of pixel intensities of shape ``(n_row, n_col)``, where ``n_row``<br>\n",
    "(resp. ``n_col``) denotes the number of `rows` (resp. `columns`). We can<br>\n",
    "construct a 3D volume as a series of 2D `planes`, giving 3D images the shape<br>\n",
    "``(n_plane, n_row, n_col)``, where ``n_plane`` is the number of planes.<br>\n",
    "A multichannel, or RGB(A), image has an additional<br>\n",
    "`channel` dimension in the final position containing color information.<br>\n",
    "These conventions are summarized in the table below:<br>\n",
    "=============== =================================<br>\n",
    "Image type      Coordinates<br>\n",
    "=============== =================================<br>\n",
    "2D grayscale    ``[row, column]``<br>\n",
    "2D multichannel ``[row, column, channel]``<br>\n",
    "3D grayscale    ``[plane, row, column]``<br>\n",
    "3D multichannel ``[plane, row, column, channel]``<br>\n",
    "=============== =================================<br>\n",
    "Some 3D images are constructed with equal resolution in each dimension (e.g.,<br>\n",
    "synchrotron tomography or computer-generated rendering of a sphere).<br>\n",
    "But most experimental data are captured<br>\n",
    "with a lower resolution in one of the three dimensions, e.g., photographing<br>\n",
    "thin slices to approximate a 3D structure as a stack of 2D images.<br>\n",
    "The distance between pixels in each dimension, called spacing, is encoded as a<br>\n",
    "tuple and is accepted as a parameter by some `skimage` functions and can be<br>\n",
    "used to adjust contributions to filters.<br>\n",
    "The data used in this tutorial were provided by the Allen Institute for Cell<br>\n",
    "Science. They were downsampled by a factor of 4 in the `row` and `column`<br>\n",
    "dimensions to reduce their size and, hence, computational time. The spacing<br>\n",
    "information was reported by the microscope used to image the cells.<br>\n"
   ]
  },
  {
   "cell_type": "code",
   "execution_count": 1,
   "metadata": {},
   "outputs": [],
   "source": [
    "import matplotlib.pyplot as plt\n",
    "from mpl_toolkits.mplot3d.art3d import Poly3DCollection\n",
    "import numpy as np"
   ]
  },
  {
   "cell_type": "code",
   "execution_count": 2,
   "metadata": {},
   "outputs": [],
   "source": [
    "from skimage import exposure, io, util\n",
    "from skimage.data import cells3d"
   ]
  },
  {
   "cell_type": "markdown",
   "metadata": {},
   "source": [
    "###################################################################<br>\n",
    "Load and display 3D images<br>\n",
    "=========================="
   ]
  },
  {
   "cell_type": "code",
   "execution_count": 3,
   "metadata": {},
   "outputs": [
    {
     "ename": "ModuleNotFoundError",
     "evalue": "The requested file is part of the scikit-image distribution, but requires the installation of an optional dependency, pooch. To install pooch, use your preferred python package manager. Follow installation instruction found at https://scikit-image.org/docs/stable/install.html",
     "output_type": "error",
     "traceback": [
      "\u001b[1;31m---------------------------------------------------------------------------\u001b[0m",
      "\u001b[1;31mModuleNotFoundError\u001b[0m                       Traceback (most recent call last)",
      "\u001b[1;32m<ipython-input-3-20d1844f1275>\u001b[0m in \u001b[0;36m<module>\u001b[1;34m\u001b[0m\n\u001b[1;32m----> 1\u001b[1;33m \u001b[0mdata\u001b[0m \u001b[1;33m=\u001b[0m \u001b[0mutil\u001b[0m\u001b[1;33m.\u001b[0m\u001b[0mimg_as_float\u001b[0m\u001b[1;33m(\u001b[0m\u001b[0mcells3d\u001b[0m\u001b[1;33m(\u001b[0m\u001b[1;33m)\u001b[0m\u001b[1;33m[\u001b[0m\u001b[1;33m:\u001b[0m\u001b[1;33m,\u001b[0m \u001b[1;36m1\u001b[0m\u001b[1;33m,\u001b[0m \u001b[1;33m:\u001b[0m\u001b[1;33m,\u001b[0m \u001b[1;33m:\u001b[0m\u001b[1;33m]\u001b[0m\u001b[1;33m)\u001b[0m  \u001b[1;31m# grab just the nuclei\u001b[0m\u001b[1;33m\u001b[0m\u001b[1;33m\u001b[0m\u001b[0m\n\u001b[0m",
      "\u001b[1;32m~\\anaconda3\\lib\\site-packages\\skimage\\data\\__init__.py\u001b[0m in \u001b[0;36mcells3d\u001b[1;34m()\u001b[0m\n\u001b[0;32m    653\u001b[0m     \"\"\"\n\u001b[0;32m    654\u001b[0m \u001b[1;33m\u001b[0m\u001b[0m\n\u001b[1;32m--> 655\u001b[1;33m     \u001b[1;32mreturn\u001b[0m \u001b[0m_load\u001b[0m\u001b[1;33m(\u001b[0m\u001b[1;34m\"data/cells3d.tif\"\u001b[0m\u001b[1;33m)\u001b[0m\u001b[1;33m\u001b[0m\u001b[1;33m\u001b[0m\u001b[0m\n\u001b[0m\u001b[0;32m    656\u001b[0m \u001b[1;33m\u001b[0m\u001b[0m\n\u001b[0;32m    657\u001b[0m \u001b[1;33m\u001b[0m\u001b[0m\n",
      "\u001b[1;32m~\\anaconda3\\lib\\site-packages\\skimage\\data\\__init__.py\u001b[0m in \u001b[0;36m_load\u001b[1;34m(f, as_gray)\u001b[0m\n\u001b[0;32m    356\u001b[0m     \u001b[1;31m# we lazy import it here\u001b[0m\u001b[1;33m\u001b[0m\u001b[1;33m\u001b[0m\u001b[1;33m\u001b[0m\u001b[0m\n\u001b[0;32m    357\u001b[0m     \u001b[1;32mfrom\u001b[0m \u001b[1;33m.\u001b[0m\u001b[1;33m.\u001b[0m\u001b[0mio\u001b[0m \u001b[1;32mimport\u001b[0m \u001b[0mimread\u001b[0m\u001b[1;33m\u001b[0m\u001b[1;33m\u001b[0m\u001b[0m\n\u001b[1;32m--> 358\u001b[1;33m     \u001b[1;32mreturn\u001b[0m \u001b[0mimread\u001b[0m\u001b[1;33m(\u001b[0m\u001b[0m_fetch\u001b[0m\u001b[1;33m(\u001b[0m\u001b[0mf\u001b[0m\u001b[1;33m)\u001b[0m\u001b[1;33m,\u001b[0m \u001b[0mas_gray\u001b[0m\u001b[1;33m=\u001b[0m\u001b[0mas_gray\u001b[0m\u001b[1;33m)\u001b[0m\u001b[1;33m\u001b[0m\u001b[1;33m\u001b[0m\u001b[0m\n\u001b[0m\u001b[0;32m    359\u001b[0m \u001b[1;33m\u001b[0m\u001b[0m\n\u001b[0;32m    360\u001b[0m \u001b[1;33m\u001b[0m\u001b[0m\n",
      "\u001b[1;32m~\\anaconda3\\lib\\site-packages\\skimage\\data\\__init__.py\u001b[0m in \u001b[0;36m_fetch\u001b[1;34m(data_filename)\u001b[0m\n\u001b[0;32m    226\u001b[0m     \u001b[1;31m# Pooch not found.\u001b[0m\u001b[1;33m\u001b[0m\u001b[1;33m\u001b[0m\u001b[1;33m\u001b[0m\u001b[0m\n\u001b[0;32m    227\u001b[0m     \u001b[1;32mif\u001b[0m \u001b[0mimage_fetcher\u001b[0m \u001b[1;32mis\u001b[0m \u001b[1;32mNone\u001b[0m\u001b[1;33m:\u001b[0m\u001b[1;33m\u001b[0m\u001b[1;33m\u001b[0m\u001b[0m\n\u001b[1;32m--> 228\u001b[1;33m         raise ModuleNotFoundError(\n\u001b[0m\u001b[0;32m    229\u001b[0m             \u001b[1;34m\"The requested file is part of the scikit-image distribution, \"\u001b[0m\u001b[1;33m\u001b[0m\u001b[1;33m\u001b[0m\u001b[0m\n\u001b[0;32m    230\u001b[0m             \u001b[1;34m\"but requires the installation of an optional dependency, pooch. \"\u001b[0m\u001b[1;33m\u001b[0m\u001b[1;33m\u001b[0m\u001b[0m\n",
      "\u001b[1;31mModuleNotFoundError\u001b[0m: The requested file is part of the scikit-image distribution, but requires the installation of an optional dependency, pooch. To install pooch, use your preferred python package manager. Follow installation instruction found at https://scikit-image.org/docs/stable/install.html"
     ]
    }
   ],
   "source": [
    "data = util.img_as_float(cells3d()[:, 1, :, :])  # grab just the nuclei"
   ]
  },
  {
   "cell_type": "code",
   "execution_count": null,
   "metadata": {},
   "outputs": [],
   "source": [
    "print(\"shape: {}\".format(data.shape))\n",
    "print(\"dtype: {}\".format(data.dtype))\n",
    "print(\"range: ({}, {})\".format(data.min(), data.max()))"
   ]
  },
  {
   "cell_type": "markdown",
   "metadata": {},
   "source": [
    "Report spacing from microscope"
   ]
  },
  {
   "cell_type": "code",
   "execution_count": null,
   "metadata": {},
   "outputs": [],
   "source": [
    "original_spacing = np.array([0.2900000, 0.0650000, 0.0650000])"
   ]
  },
  {
   "cell_type": "markdown",
   "metadata": {},
   "source": [
    "Account for downsampling of slices by 4"
   ]
  },
  {
   "cell_type": "code",
   "execution_count": null,
   "metadata": {},
   "outputs": [],
   "source": [
    "rescaled_spacing = original_spacing * [1, 4, 4]"
   ]
  },
  {
   "cell_type": "markdown",
   "metadata": {},
   "source": [
    "Normalize spacing so that pixels are a distance of 1 apart"
   ]
  },
  {
   "cell_type": "code",
   "execution_count": null,
   "metadata": {},
   "outputs": [],
   "source": [
    "spacing = rescaled_spacing / rescaled_spacing[2]"
   ]
  },
  {
   "cell_type": "code",
   "execution_count": null,
   "metadata": {},
   "outputs": [],
   "source": [
    "print(\"microscope spacing: {}\\n\".format(original_spacing))\n",
    "print(\"rescaled spacing: {} (after downsampling)\\n\".format(rescaled_spacing))\n",
    "print(\"normalized spacing: {}\\n\".format(spacing))"
   ]
  },
  {
   "cell_type": "markdown",
   "metadata": {},
   "source": [
    "###################################################################<br>\n",
    "Let us try and visualize the (3D) image with `io.imshow`."
   ]
  },
  {
   "cell_type": "code",
   "execution_count": null,
   "metadata": {},
   "outputs": [],
   "source": [
    "try:\n",
    "    io.imshow(data, cmap=\"gray\")\n",
    "except TypeError as e:\n",
    "    print(str(e))"
   ]
  },
  {
   "cell_type": "markdown",
   "metadata": {},
   "source": [
    "###################################################################<br>\n",
    "The `io.imshow` function can only display grayscale and RGB(A) 2D images.<br>\n",
    "We can thus use it to visualize 2D planes. By fixing one axis, we can<br>\n",
    "observe three different views of the image."
   ]
  },
  {
   "cell_type": "code",
   "execution_count": null,
   "metadata": {},
   "outputs": [],
   "source": [
    "def show_plane(ax, plane, cmap=\"gray\", title=None):\n",
    "    ax.imshow(plane, cmap=cmap)\n",
    "    ax.axis(\"off\")\n",
    "    if title:\n",
    "        ax.set_title(title)"
   ]
  },
  {
   "cell_type": "code",
   "execution_count": null,
   "metadata": {},
   "outputs": [],
   "source": [
    "(n_plane, n_row, n_col) = data.shape\n",
    "_, (a, b, c) = plt.subplots(ncols=3, figsize=(15, 5))"
   ]
  },
  {
   "cell_type": "code",
   "execution_count": null,
   "metadata": {},
   "outputs": [],
   "source": [
    "show_plane(a, data[n_plane // 2], title=f'Plane = {n_plane // 2}')\n",
    "show_plane(b, data[:, n_row // 2, :], title=f'Row = {n_row // 2}')\n",
    "show_plane(c, data[:, :, n_col // 2], title=f'Column = {n_col // 2}')"
   ]
  },
  {
   "cell_type": "markdown",
   "metadata": {},
   "source": [
    "###################################################################<br>\n",
    "As hinted before, a three-dimensional image can be viewed as a series of<br>\n",
    "two-dimensional planes. Let us write a helper function, `display`, to<br>\n",
    "display 30 planes of our data. By default, every other plane is displayed."
   ]
  },
  {
   "cell_type": "code",
   "execution_count": null,
   "metadata": {},
   "outputs": [],
   "source": [
    "def display(im3d, cmap=\"gray\", step=2):\n",
    "    _, axes = plt.subplots(nrows=5, ncols=6, figsize=(16, 14))\n",
    "    vmin = im3d.min()\n",
    "    vmax = im3d.max()\n",
    "    for ax, image in zip(axes.flatten(), im3d[::step]):\n",
    "        ax.imshow(image, cmap=cmap, vmin=vmin, vmax=vmax)\n",
    "        ax.set_xticks([])\n",
    "        ax.set_yticks([])"
   ]
  },
  {
   "cell_type": "code",
   "execution_count": null,
   "metadata": {},
   "outputs": [],
   "source": [
    "display(data)"
   ]
  },
  {
   "cell_type": "markdown",
   "metadata": {},
   "source": [
    "###################################################################<br>\n",
    "Alternatively, we can explore these planes (slices) interactively using<br>\n",
    "Jupyter widgets. Let the user select which slice to display and show the<br>\n",
    "position of this slice in the 3D dataset.<br>\n",
    "Note that you cannot see the Jupyter widget at work in a static HTML page,<br>\n",
    "as is the case in the scikit-image gallery. For the following piece of<br>\n",
    "code to work, you need a Jupyter kernel running either locally or in the<br>\n",
    "cloud: see the bottom of this page to either download the Jupyter notebook<br>\n",
    "and run it on your computer, or open it directly in Binder."
   ]
  },
  {
   "cell_type": "code",
   "execution_count": null,
   "metadata": {},
   "outputs": [],
   "source": [
    "def slice_in_3D(ax, i):\n",
    "    # From https://stackoverflow.com/questions/44881885/python-draw-3d-cube\n",
    "    Z = np.array([[0, 0, 0],\n",
    "                  [1, 0, 0],\n",
    "                  [1, 1, 0],\n",
    "                  [0, 1, 0],\n",
    "                  [0, 0, 1],\n",
    "                  [1, 0, 1],\n",
    "                  [1, 1, 1],\n",
    "                  [0, 1, 1]])\n",
    "    Z = Z * data.shape\n",
    "    r = [-1, 1]\n",
    "    X, Y = np.meshgrid(r, r)\n",
    "\n",
    "    # Plot vertices\n",
    "    ax.scatter3D(Z[:, 0], Z[:, 1], Z[:, 2])\n",
    "\n",
    "    # List sides' polygons of figure\n",
    "    verts = [[Z[0], Z[1], Z[2], Z[3]],\n",
    "             [Z[4], Z[5], Z[6], Z[7]],\n",
    "             [Z[0], Z[1], Z[5], Z[4]],\n",
    "             [Z[2], Z[3], Z[7], Z[6]],\n",
    "             [Z[1], Z[2], Z[6], Z[5]],\n",
    "             [Z[4], Z[7], Z[3], Z[0]],\n",
    "             [Z[2], Z[3], Z[7], Z[6]]]\n",
    "\n",
    "    # Plot sides\n",
    "    ax.add_collection3d(\n",
    "        Poly3DCollection(\n",
    "            verts,\n",
    "            facecolors=(0, 1, 1, 0.25),\n",
    "            linewidths=1,\n",
    "            edgecolors=\"darkblue\"\n",
    "        )\n",
    "    )\n",
    "    verts = np.array([[[0, 0, 0],\n",
    "                       [0, 0, 1],\n",
    "                       [0, 1, 1],\n",
    "                       [0, 1, 0]]])\n",
    "    verts = verts * (60, 256, 256)\n",
    "    verts += [i, 0, 0]\n",
    "    ax.add_collection3d(\n",
    "        Poly3DCollection(\n",
    "            verts,\n",
    "            facecolors=\"magenta\",\n",
    "            linewidths=1,\n",
    "            edgecolors=\"black\"\n",
    "        )\n",
    "    )\n",
    "    ax.set_xlabel(\"plane\")\n",
    "    ax.set_xlim(0, 100)\n",
    "    ax.set_ylabel(\"row\")\n",
    "    ax.set_zlabel(\"col\")\n",
    "\n",
    "    # Autoscale plot axes\n",
    "    scaling = np.array([getattr(ax,\n",
    "                                f'get_{dim}lim')() for dim in \"xyz\"])\n",
    "    ax.auto_scale_xyz(* [[np.min(scaling), np.max(scaling)]] * 3)"
   ]
  },
  {
   "cell_type": "code",
   "execution_count": null,
   "metadata": {},
   "outputs": [],
   "source": [
    "def explore_slices(data, cmap=\"gray\"):\n",
    "    from ipywidgets import interact\n",
    "    N = len(data)\n",
    "    @interact(plane=(0, N - 1))\n",
    "    def display_slice(plane=34):\n",
    "        fig, ax = plt.subplots(figsize=(20, 5))\n",
    "        ax_3D = fig.add_subplot(133, projection=\"3d\")\n",
    "        show_plane(ax, data[plane], title=\"Plane {}\".format(plane), cmap=cmap)\n",
    "        slice_in_3D(ax_3D, plane)\n",
    "        plt.show()\n",
    "    return display_slice"
   ]
  },
  {
   "cell_type": "code",
   "execution_count": null,
   "metadata": {},
   "outputs": [],
   "source": [
    "explore_slices(data);"
   ]
  },
  {
   "cell_type": "markdown",
   "metadata": {},
   "source": [
    "###################################################################<br>\n",
    "Adjust exposure<br>\n",
    "===============<br>\n",
    "Scikit-image's `exposure` module contains a number of functions for<br>\n",
    "adjusting image contrast. These functions operate on pixel values.<br>\n",
    "Generally, image dimensionality or pixel spacing doesn't need to be<br>\n",
    "considered. In local exposure correction, though, one might want to<br>\n",
    "adjust the window size to ensure equal size in *real* coordinates along<br>\n",
    "each axis."
   ]
  },
  {
   "cell_type": "markdown",
   "metadata": {},
   "source": [
    "###################################################################<br>\n",
    "`Gamma correction <https://en.wikipedia.org/wiki/Gamma_correction>`_<br>\n",
    "brightens or darkens an image. A power-law transform, where `gamma` denotes<br>\n",
    "the power-law exponent, is applied to each pixel in the image: `gamma < 1`<br>\n",
    "will brighten an image, while `gamma > 1` will darken an image."
   ]
  },
  {
   "cell_type": "code",
   "execution_count": null,
   "metadata": {},
   "outputs": [],
   "source": [
    "def plot_hist(ax, data, title=None):\n",
    "    # Helper function for plotting histograms\n",
    "    ax.hist(data.ravel(), bins=256)\n",
    "    ax.ticklabel_format(axis=\"y\", style=\"scientific\", scilimits=(0, 0))\n",
    "    if title:\n",
    "        ax.set_title(title)"
   ]
  },
  {
   "cell_type": "code",
   "execution_count": null,
   "metadata": {},
   "outputs": [],
   "source": [
    "gamma_low_val = 0.5\n",
    "gamma_low = exposure.adjust_gamma(data, gamma=gamma_low_val)"
   ]
  },
  {
   "cell_type": "code",
   "execution_count": null,
   "metadata": {},
   "outputs": [],
   "source": [
    "gamma_high_val = 1.5\n",
    "gamma_high = exposure.adjust_gamma(data, gamma=gamma_high_val)"
   ]
  },
  {
   "cell_type": "code",
   "execution_count": null,
   "metadata": {},
   "outputs": [],
   "source": [
    "_, ((a, b, c), (d, e, f)) = plt.subplots(nrows=2, ncols=3, figsize=(12, 8))"
   ]
  },
  {
   "cell_type": "code",
   "execution_count": null,
   "metadata": {},
   "outputs": [],
   "source": [
    "show_plane(a, data[32], title='Original')\n",
    "show_plane(b, gamma_low[32], title=f'Gamma = {gamma_low_val}')\n",
    "show_plane(c, gamma_high[32], title=f'Gamma = {gamma_high_val}')"
   ]
  },
  {
   "cell_type": "code",
   "execution_count": null,
   "metadata": {},
   "outputs": [],
   "source": [
    "plot_hist(d, data)\n",
    "plot_hist(e, gamma_low)\n",
    "plot_hist(f, gamma_high)\n",
    "# sphinx_gallery_thumbnail_number = 4"
   ]
  },
  {
   "cell_type": "markdown",
   "metadata": {},
   "source": [
    "###################################################################<br>\n",
    "`Histogram<br>\n",
    "equalization <https://en.wikipedia.org/wiki/Histogram_equalization>`_<br>\n",
    "improves contrast in an image by redistributing pixel intensities. The most<br>\n",
    "common pixel intensities get spread out, increasing contrast in low-contrast<br>\n",
    "areas. One downside of this approach is that it may enhance background<br>\n",
    "noise."
   ]
  },
  {
   "cell_type": "code",
   "execution_count": null,
   "metadata": {},
   "outputs": [],
   "source": [
    "equalized_data = exposure.equalize_hist(data)"
   ]
  },
  {
   "cell_type": "code",
   "execution_count": null,
   "metadata": {},
   "outputs": [],
   "source": [
    "display(equalized_data)"
   ]
  },
  {
   "cell_type": "markdown",
   "metadata": {},
   "source": [
    "###################################################################<br>\n",
    "As before, if we have a Jupyter kernel running, we can explore the above<br>\n",
    "slices interactively."
   ]
  },
  {
   "cell_type": "code",
   "execution_count": null,
   "metadata": {},
   "outputs": [],
   "source": [
    "explore_slices(equalized_data);"
   ]
  },
  {
   "cell_type": "markdown",
   "metadata": {},
   "source": [
    "###################################################################<br>\n",
    "Let us now plot the image histogram before and after histogram equalization.<br>\n",
    "Below, we plot the respective cumulative distribution functions (CDF)."
   ]
  },
  {
   "cell_type": "code",
   "execution_count": null,
   "metadata": {},
   "outputs": [],
   "source": [
    "_, ((a, b), (c, d)) = plt.subplots(nrows=2, ncols=2, figsize=(16, 8))"
   ]
  },
  {
   "cell_type": "code",
   "execution_count": null,
   "metadata": {},
   "outputs": [],
   "source": [
    "plot_hist(a, data, title=\"Original histogram\")\n",
    "plot_hist(b, equalized_data, title=\"Equalized histogram\")"
   ]
  },
  {
   "cell_type": "code",
   "execution_count": null,
   "metadata": {},
   "outputs": [],
   "source": [
    "cdf, bins = exposure.cumulative_distribution(data.ravel())\n",
    "c.plot(bins, cdf, \"r\")\n",
    "c.set_title(\"Original CDF\")"
   ]
  },
  {
   "cell_type": "code",
   "execution_count": null,
   "metadata": {},
   "outputs": [],
   "source": [
    "cdf, bins = exposure.cumulative_distribution(equalized_data.ravel())\n",
    "d.plot(bins, cdf, \"r\")\n",
    "d.set_title(\"Histogram equalization CDF\")"
   ]
  },
  {
   "cell_type": "markdown",
   "metadata": {},
   "source": [
    "###################################################################<br>\n",
    "Most experimental images are affected by salt and pepper noise. A few bright<br>\n",
    "artifacts can decrease the relative intensity of the pixels of interest. A<br>\n",
    "simple way to improve contrast is to clip the pixel values on the lowest and<br>\n",
    "highest extremes. Clipping the darkest and brightest 0.5% of pixels will<br>\n",
    "increase the overall contrast of the image."
   ]
  },
  {
   "cell_type": "code",
   "execution_count": null,
   "metadata": {},
   "outputs": [],
   "source": [
    "vmin, vmax = np.percentile(data, q=(0.5, 99.5))"
   ]
  },
  {
   "cell_type": "code",
   "execution_count": null,
   "metadata": {},
   "outputs": [],
   "source": [
    "clipped_data = exposure.rescale_intensity(\n",
    "    data,\n",
    "    in_range=(vmin, vmax),\n",
    "    out_range=np.float32\n",
    ")"
   ]
  },
  {
   "cell_type": "code",
   "execution_count": null,
   "metadata": {},
   "outputs": [],
   "source": [
    "display(clipped_data)"
   ]
  }
 ],
 "metadata": {
  "kernelspec": {
   "display_name": "Python 3",
   "language": "python",
   "name": "python3"
  },
  "language_info": {
   "codemirror_mode": {
    "name": "ipython",
    "version": 3
   },
   "file_extension": ".py",
   "mimetype": "text/x-python",
   "name": "python",
   "nbconvert_exporter": "python",
   "pygments_lexer": "ipython3",
   "version": "3.8.3"
  }
 },
 "nbformat": 4,
 "nbformat_minor": 2
}
